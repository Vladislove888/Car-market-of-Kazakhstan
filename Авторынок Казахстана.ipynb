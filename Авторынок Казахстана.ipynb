{
 "cells": [
  {
   "cell_type": "markdown",
   "id": "919f42b6",
   "metadata": {},
   "source": [
    "# Исследование продаж автомобилей в Казахстане"
   ]
  },
  {
   "cell_type": "markdown",
   "id": "fe44d810",
   "metadata": {},
   "source": [
    "## Описание данных"
   ]
  },
  {
   "cell_type": "markdown",
   "id": "525b4396",
   "metadata": {},
   "source": [
    "Датасет с данными по продажам автомобилей в Казахстане за 2019 год. Данные получены из официальной статистики VAG, после перевода из эксель в csv обнаружились множественные проблемы с исходными данными: некорректные разделители десятичных разрядов, несоответствие данных типу данных. Дополнительной проблемой является то, что статистику собирал не один\n",
    "человек, поэтому есть неявные дубликаты - например, 4WD, 4 WD и 4-WD, а также одни и те же признаки могут быть записаны как на русском, так и на английском языке. Также необходимо очистить датасет от лишних столбцов, которые используют технические специалисты, но которые не нужны в управленческом учете."
   ]
  },
  {
   "cell_type": "markdown",
   "id": "ca278be0",
   "metadata": {},
   "source": [
    "`Год` – год продажи (2019)\n",
    "\n",
    "`Месяц` – месяц продажи (январь - сентябрь)\n",
    "\n",
    "`Компания` – название автоцентра\n",
    "\n",
    "`Бренд` – название продаваемой марки автомобиля\n",
    "\n",
    "`Модель` – название модели автомобиля\n",
    "\n",
    "`Год выпуска` – год производства автомобиля\n",
    "\n",
    "`Страна-производитель` – страна, где произведен автомобиль\n",
    "\n",
    "`Вид топлива` – бензин, дизель, электричество, гибрид\n",
    "\n",
    "`Объём двиг л` – объем двигателя автомобиля в литрах\n",
    "\n",
    "`Коробка передач` – тип коробки переключения передач (оставляем два варианта: автоматическая, механическая, то есть все что не механика ставим автомат, на DSG, S-Tronic и прочее делить не надо, равно как и количество передач)\n",
    "\n",
    "`Тип привода` – в итоге оставляем RWD – задний привод, FWD – передний привод, 4WD – полный привод, 2WD – все остальное (подключаемый полный привод и где нет четкого указания передний или задний это привод)\n",
    "\n",
    "`Регион` – регион продажи\n",
    "\n",
    "`Количество` – количество автомобилей в заказе\n",
    "\n",
    "`Цена USD` – цена автомобиля\n",
    "\n",
    "`Продажа USD` – цена заказа (цена авто умноженная на количество и за вычетом скидок если есть)\n",
    "\n",
    "`Область` – область продажи\n",
    "\n",
    "`Сегментация 2013` – сегмент автомобиля актуальный\n",
    "\n",
    "`Класс 2013` – класс автомобиля актуальный"
   ]
  },
  {
   "cell_type": "markdown",
   "id": "05a3e0d1",
   "metadata": {},
   "source": [
    "## Предобработка данных"
   ]
  },
  {
   "cell_type": "code",
   "execution_count": 1,
   "id": "5b37ab2a",
   "metadata": {},
   "outputs": [],
   "source": [
    "import pandas as pd\n",
    "import numpy as np\n",
    "from matplotlib import pyplot as plt\n",
    "import seaborn as sns\n",
    "import re\n",
    "import squarify"
   ]
  },
  {
   "cell_type": "markdown",
   "id": "1f3d85c5",
   "metadata": {},
   "source": [
    "### Загрузка файла"
   ]
  },
  {
   "cell_type": "code",
   "execution_count": 2,
   "id": "7205b16d",
   "metadata": {},
   "outputs": [],
   "source": [
    "data = pd.read_csv('kz_2019_final_all_dirt.csv', decimal=',', index_col=0, low_memory=False)"
   ]
  },
  {
   "cell_type": "code",
   "execution_count": 3,
   "id": "03301bdc",
   "metadata": {
    "scrolled": true
   },
   "outputs": [
    {
     "name": "stdout",
     "output_type": "stream",
     "text": [
      "Число строк: 32854\n"
     ]
    },
    {
     "data": {
      "text/html": [
       "<div>\n",
       "<style scoped>\n",
       "    .dataframe tbody tr th:only-of-type {\n",
       "        vertical-align: middle;\n",
       "    }\n",
       "\n",
       "    .dataframe tbody tr th {\n",
       "        vertical-align: top;\n",
       "    }\n",
       "\n",
       "    .dataframe thead th {\n",
       "        text-align: right;\n",
       "    }\n",
       "</style>\n",
       "<table border=\"1\" class=\"dataframe\">\n",
       "  <thead>\n",
       "    <tr style=\"text-align: right;\">\n",
       "      <th></th>\n",
       "      <th>Год</th>\n",
       "      <th>Месяц</th>\n",
       "      <th>Компания</th>\n",
       "      <th>Бренд</th>\n",
       "      <th>Модель</th>\n",
       "      <th>Модификация</th>\n",
       "      <th>Год выпуска</th>\n",
       "      <th>Страна-производитель</th>\n",
       "      <th>Вид топлива</th>\n",
       "      <th>Объём двиг, л,</th>\n",
       "      <th>...</th>\n",
       "      <th>Тип клиента</th>\n",
       "      <th>Форма расчета</th>\n",
       "      <th>Количество</th>\n",
       "      <th>Цена, USD</th>\n",
       "      <th>Продажа, USD</th>\n",
       "      <th>Область</th>\n",
       "      <th>Сегментация 2013</th>\n",
       "      <th>Класс 2013</th>\n",
       "      <th>Сегментация Eng</th>\n",
       "      <th>Локализация производства</th>\n",
       "    </tr>\n",
       "  </thead>\n",
       "  <tbody>\n",
       "    <tr>\n",
       "      <th>0</th>\n",
       "      <td>2019</td>\n",
       "      <td>Март</td>\n",
       "      <td>Mercur Auto</td>\n",
       "      <td>Audi</td>\n",
       "      <td>A3</td>\n",
       "      <td>Audi A3 TFSI</td>\n",
       "      <td>2017</td>\n",
       "      <td>Германия</td>\n",
       "      <td>Бензин</td>\n",
       "      <td>1.4</td>\n",
       "      <td>...</td>\n",
       "      <td>Физ. Лицо</td>\n",
       "      <td>безналичный</td>\n",
       "      <td>1.0</td>\n",
       "      <td>31250.0</td>\n",
       "      <td>31250.0</td>\n",
       "      <td>г.Алматы</td>\n",
       "      <td>Легковые автомобили</td>\n",
       "      <td>C класс</td>\n",
       "      <td>C</td>\n",
       "      <td>Импорт</td>\n",
       "    </tr>\n",
       "    <tr>\n",
       "      <th>1</th>\n",
       "      <td>2019</td>\n",
       "      <td>Май</td>\n",
       "      <td>Mercur Auto</td>\n",
       "      <td>Audi</td>\n",
       "      <td>A3</td>\n",
       "      <td>TFSI</td>\n",
       "      <td>2018</td>\n",
       "      <td>Германия</td>\n",
       "      <td>Бензин</td>\n",
       "      <td>1.4</td>\n",
       "      <td>...</td>\n",
       "      <td>Физ. Лицо</td>\n",
       "      <td>наличный</td>\n",
       "      <td>1.0</td>\n",
       "      <td>30581.0</td>\n",
       "      <td>30581.0</td>\n",
       "      <td>г.Алматы</td>\n",
       "      <td>Легковые автомобили</td>\n",
       "      <td>C класс</td>\n",
       "      <td>C</td>\n",
       "      <td>Импорт</td>\n",
       "    </tr>\n",
       "    <tr>\n",
       "      <th>2</th>\n",
       "      <td>2019</td>\n",
       "      <td>Июнь</td>\n",
       "      <td>Mercur Auto</td>\n",
       "      <td>Audi</td>\n",
       "      <td>A3</td>\n",
       "      <td>TFSI</td>\n",
       "      <td>2018</td>\n",
       "      <td>Германия</td>\n",
       "      <td>Бензин</td>\n",
       "      <td>1.4</td>\n",
       "      <td>...</td>\n",
       "      <td>Физ. Лицо</td>\n",
       "      <td>наличный</td>\n",
       "      <td>1.0</td>\n",
       "      <td>35087.719</td>\n",
       "      <td>35087.719</td>\n",
       "      <td>г.Алматы</td>\n",
       "      <td>Легковые автомобили</td>\n",
       "      <td>C класс</td>\n",
       "      <td>C</td>\n",
       "      <td>Импорт</td>\n",
       "    </tr>\n",
       "    <tr>\n",
       "      <th>3</th>\n",
       "      <td>2019</td>\n",
       "      <td>Июль</td>\n",
       "      <td>Mercur Auto</td>\n",
       "      <td>Audi</td>\n",
       "      <td>A3</td>\n",
       "      <td>TFSI</td>\n",
       "      <td>2017</td>\n",
       "      <td>Германия</td>\n",
       "      <td>Бензин</td>\n",
       "      <td>1.4</td>\n",
       "      <td>...</td>\n",
       "      <td>Физ. Лицо</td>\n",
       "      <td>наличный</td>\n",
       "      <td>1.0</td>\n",
       "      <td>26608.232900297386</td>\n",
       "      <td>26608.232900297386</td>\n",
       "      <td>г.Алматы</td>\n",
       "      <td>Легковые автомобили</td>\n",
       "      <td>C класс</td>\n",
       "      <td>C</td>\n",
       "      <td>Импорт</td>\n",
       "    </tr>\n",
       "    <tr>\n",
       "      <th>4</th>\n",
       "      <td>2019</td>\n",
       "      <td>Июль</td>\n",
       "      <td>Mercur Auto</td>\n",
       "      <td>Audi</td>\n",
       "      <td>A4</td>\n",
       "      <td>A4 Allroad TFSI</td>\n",
       "      <td>2017</td>\n",
       "      <td>Германия</td>\n",
       "      <td>Бензин</td>\n",
       "      <td>2</td>\n",
       "      <td>...</td>\n",
       "      <td>Юр. Лицо</td>\n",
       "      <td>безналичный</td>\n",
       "      <td>1.0</td>\n",
       "      <td>48343.98264845536</td>\n",
       "      <td>48343.98264845536</td>\n",
       "      <td>г.Алматы</td>\n",
       "      <td>Легковые автомобили</td>\n",
       "      <td>D класс</td>\n",
       "      <td>D</td>\n",
       "      <td>Импорт</td>\n",
       "    </tr>\n",
       "  </tbody>\n",
       "</table>\n",
       "<p>5 rows × 25 columns</p>\n",
       "</div>"
      ],
      "text/plain": [
       "    Год Месяц     Компания Бренд Модель      Модификация Год выпуска  \\\n",
       "0  2019  Март  Mercur Auto  Audi     A3     Audi A3 TFSI        2017   \n",
       "1  2019   Май  Mercur Auto  Audi     A3             TFSI        2018   \n",
       "2  2019  Июнь  Mercur Auto  Audi     A3             TFSI        2018   \n",
       "3  2019  Июль  Mercur Auto  Audi     A3             TFSI        2017   \n",
       "4  2019  Июль  Mercur Auto  Audi     A4  A4 Allroad TFSI        2017   \n",
       "\n",
       "  Страна-производитель Вид топлива Объём двиг, л,  ... Тип клиента  \\\n",
       "0             Германия      Бензин            1.4  ...   Физ. Лицо   \n",
       "1             Германия      Бензин            1.4  ...   Физ. Лицо   \n",
       "2             Германия      Бензин            1.4  ...   Физ. Лицо   \n",
       "3             Германия      Бензин            1.4  ...   Физ. Лицо   \n",
       "4             Германия      Бензин              2  ...    Юр. Лицо   \n",
       "\n",
       "  Форма расчета Количество           Цена, USD        Продажа, USD   Область  \\\n",
       "0   безналичный        1.0             31250.0             31250.0  г.Алматы   \n",
       "1      наличный        1.0             30581.0             30581.0  г.Алматы   \n",
       "2      наличный        1.0           35087.719           35087.719  г.Алматы   \n",
       "3      наличный        1.0  26608.232900297386  26608.232900297386  г.Алматы   \n",
       "4   безналичный        1.0   48343.98264845536   48343.98264845536  г.Алматы   \n",
       "\n",
       "       Сегментация 2013 Класс 2013 Сегментация Eng Локализация производства  \n",
       "0  Легковые автомобили    C класс                C                   Импорт  \n",
       "1  Легковые автомобили    C класс                C                   Импорт  \n",
       "2  Легковые автомобили    C класс                C                   Импорт  \n",
       "3  Легковые автомобили    C класс                C                   Импорт  \n",
       "4  Легковые автомобили    D класс                D                   Импорт  \n",
       "\n",
       "[5 rows x 25 columns]"
      ]
     },
     "execution_count": 3,
     "metadata": {},
     "output_type": "execute_result"
    }
   ],
   "source": [
    "print('Число строк:', len(data))\n",
    "data.head()"
   ]
  },
  {
   "cell_type": "markdown",
   "id": "4622356c",
   "metadata": {},
   "source": [
    "### Переименование столбцов"
   ]
  },
  {
   "cell_type": "markdown",
   "id": "005567d4",
   "metadata": {},
   "source": [
    "Во-первых, удалим колонки, которые не участвуют в анализе"
   ]
  },
  {
   "cell_type": "code",
   "execution_count": 4,
   "id": "f0748898",
   "metadata": {},
   "outputs": [],
   "source": [
    "data = data.drop(['Модификация', 'Сегмент', 'Наименование дилерского центра', 'Тип клиента', 'Форма расчета', \n",
    "                  'Сегментация Eng', 'Локализация производства'], axis=1)"
   ]
  },
  {
   "cell_type": "markdown",
   "id": "6cb33851",
   "metadata": {},
   "source": [
    "Во-вторых, приведем названия столбцов в удобный формат"
   ]
  },
  {
   "cell_type": "code",
   "execution_count": 5,
   "id": "d6736056",
   "metadata": {},
   "outputs": [
    {
     "name": "stdout",
     "output_type": "stream",
     "text": [
      "Index(['год', 'месяц', 'компания', 'бренд', 'модель', 'год_выпуска',\n",
      "       'страна_производитель', 'вид_топлива', 'объём_двиг_л',\n",
      "       'коробка_передач', 'тип_привода', 'регион', 'количество', 'цена_usd',\n",
      "       'продажа_usd', 'область', 'сегментация_2013', 'класс_2013'],\n",
      "      dtype='object')\n"
     ]
    }
   ],
   "source": [
    "data.columns = (data.columns.str.lower()\n",
    "               .str.replace(',', '')\n",
    "               .str.replace('-', '_')\n",
    "               .str.replace(' ', '_')\n",
    "               )\n",
    "print(data.columns)"
   ]
  },
  {
   "cell_type": "markdown",
   "id": "3bf428b2",
   "metadata": {},
   "source": [
    "### Анализ пропусков"
   ]
  },
  {
   "cell_type": "code",
   "execution_count": 6,
   "id": "1411dd9d",
   "metadata": {},
   "outputs": [
    {
     "data": {
      "text/html": [
       "<div>\n",
       "<style scoped>\n",
       "    .dataframe tbody tr th:only-of-type {\n",
       "        vertical-align: middle;\n",
       "    }\n",
       "\n",
       "    .dataframe tbody tr th {\n",
       "        vertical-align: top;\n",
       "    }\n",
       "\n",
       "    .dataframe thead th {\n",
       "        text-align: right;\n",
       "    }\n",
       "</style>\n",
       "<table border=\"1\" class=\"dataframe\">\n",
       "  <thead>\n",
       "    <tr style=\"text-align: right;\">\n",
       "      <th></th>\n",
       "      <th>column_name</th>\n",
       "      <th>percent_missing</th>\n",
       "    </tr>\n",
       "  </thead>\n",
       "  <tbody>\n",
       "    <tr>\n",
       "      <th>год</th>\n",
       "      <td>год</td>\n",
       "      <td>0.000000</td>\n",
       "    </tr>\n",
       "    <tr>\n",
       "      <th>месяц</th>\n",
       "      <td>месяц</td>\n",
       "      <td>0.000000</td>\n",
       "    </tr>\n",
       "    <tr>\n",
       "      <th>компания</th>\n",
       "      <td>компания</td>\n",
       "      <td>0.000000</td>\n",
       "    </tr>\n",
       "    <tr>\n",
       "      <th>бренд</th>\n",
       "      <td>бренд</td>\n",
       "      <td>0.000000</td>\n",
       "    </tr>\n",
       "    <tr>\n",
       "      <th>модель</th>\n",
       "      <td>модель</td>\n",
       "      <td>0.000000</td>\n",
       "    </tr>\n",
       "    <tr>\n",
       "      <th>год_выпуска</th>\n",
       "      <td>год_выпуска</td>\n",
       "      <td>0.468740</td>\n",
       "    </tr>\n",
       "    <tr>\n",
       "      <th>страна_производитель</th>\n",
       "      <td>страна_производитель</td>\n",
       "      <td>0.000000</td>\n",
       "    </tr>\n",
       "    <tr>\n",
       "      <th>вид_топлива</th>\n",
       "      <td>вид_топлива</td>\n",
       "      <td>2.775918</td>\n",
       "    </tr>\n",
       "    <tr>\n",
       "      <th>объём_двиг_л</th>\n",
       "      <td>объём_двиг_л</td>\n",
       "      <td>5.740549</td>\n",
       "    </tr>\n",
       "    <tr>\n",
       "      <th>коробка_передач</th>\n",
       "      <td>коробка_передач</td>\n",
       "      <td>3.628173</td>\n",
       "    </tr>\n",
       "    <tr>\n",
       "      <th>тип_привода</th>\n",
       "      <td>тип_привода</td>\n",
       "      <td>6.894138</td>\n",
       "    </tr>\n",
       "    <tr>\n",
       "      <th>регион</th>\n",
       "      <td>регион</td>\n",
       "      <td>0.000000</td>\n",
       "    </tr>\n",
       "    <tr>\n",
       "      <th>количество</th>\n",
       "      <td>количество</td>\n",
       "      <td>0.015219</td>\n",
       "    </tr>\n",
       "    <tr>\n",
       "      <th>цена_usd</th>\n",
       "      <td>цена_usd</td>\n",
       "      <td>0.000000</td>\n",
       "    </tr>\n",
       "    <tr>\n",
       "      <th>продажа_usd</th>\n",
       "      <td>продажа_usd</td>\n",
       "      <td>0.000000</td>\n",
       "    </tr>\n",
       "    <tr>\n",
       "      <th>область</th>\n",
       "      <td>область</td>\n",
       "      <td>0.000000</td>\n",
       "    </tr>\n",
       "    <tr>\n",
       "      <th>сегментация_2013</th>\n",
       "      <td>сегментация_2013</td>\n",
       "      <td>0.000000</td>\n",
       "    </tr>\n",
       "    <tr>\n",
       "      <th>класс_2013</th>\n",
       "      <td>класс_2013</td>\n",
       "      <td>0.000000</td>\n",
       "    </tr>\n",
       "  </tbody>\n",
       "</table>\n",
       "</div>"
      ],
      "text/plain": [
       "                               column_name  percent_missing\n",
       "год                                    год         0.000000\n",
       "месяц                                месяц         0.000000\n",
       "компания                          компания         0.000000\n",
       "бренд                                бренд         0.000000\n",
       "модель                              модель         0.000000\n",
       "год_выпуска                    год_выпуска         0.468740\n",
       "страна_производитель  страна_производитель         0.000000\n",
       "вид_топлива                    вид_топлива         2.775918\n",
       "объём_двиг_л                  объём_двиг_л         5.740549\n",
       "коробка_передач            коробка_передач         3.628173\n",
       "тип_привода                    тип_привода         6.894138\n",
       "регион                              регион         0.000000\n",
       "количество                      количество         0.015219\n",
       "цена_usd                          цена_usd         0.000000\n",
       "продажа_usd                    продажа_usd         0.000000\n",
       "область                            область         0.000000\n",
       "сегментация_2013          сегментация_2013         0.000000\n",
       "класс_2013                      класс_2013         0.000000"
      ]
     },
     "execution_count": 6,
     "metadata": {},
     "output_type": "execute_result"
    }
   ],
   "source": [
    "percent_missing = data.isnull().sum() * 100 / len(data)\n",
    "missing_value = pd.DataFrame({'column_name': data.columns,\n",
    "                              'percent_missing': percent_missing})\n",
    "missing_value"
   ]
  },
  {
   "cell_type": "code",
   "execution_count": 7,
   "id": "e77af214",
   "metadata": {},
   "outputs": [
    {
     "data": {
      "image/png": "[encoded data removed]",
      "text/plain": [
       "<Figure size 640x480 with 2 Axes>"
      ]
     },
     "metadata": {},
     "output_type": "display_data"
    }
   ],
   "source": [
    "cols = data.columns\n",
    "# определяем цвета \n",
    "# желтый - пропущенные данные, синий - не пропущенные\n",
    "colors = ['#000099', '#ffff00'] \n",
    "sns.heatmap(data[cols].isna(), cmap=sns.color_palette(colors))\n",
    "plt.show()"
   ]
  },
  {
   "cell_type": "markdown",
   "id": "7dccedc4",
   "metadata": {},
   "source": [
    "Пропусков немного, но в сновном они присутствуют сразу в нескольких столбцах, потому их будет сложно заполнить."
   ]
  },
  {
   "cell_type": "code",
   "execution_count": 8,
   "id": "46cd57aa",
   "metadata": {},
   "outputs": [
    {
     "data": {
      "text/plain": [
       "бренд\n",
       "KAMAZ                  888\n",
       "Renault                680\n",
       "Volkswagen             342\n",
       "Isuzu                  176\n",
       "Land Rover             147\n",
       "Mazda                  111\n",
       "Mercedes-Benz           59\n",
       "Jac                     42\n",
       "Shacman                 36\n",
       "Урал                    22\n",
       "Lada                    20\n",
       "UAZ                     18\n",
       "Lexus                   17\n",
       "Jaguar                  15\n",
       "Scania                  13\n",
       "Foton                   12\n",
       "Infiniti                 8\n",
       "Nissan                   7\n",
       "Peugeot                  6\n",
       "MAN                      5\n",
       "ANKAI                    5\n",
       "Kia                      3\n",
       "Hyundai Truck & Bus      2\n",
       "SsangYong                2\n",
       "МАЗ                      2\n",
       "Audi                     1\n",
       "BMW                      1\n",
       "Name: бренд, dtype: int64"
      ]
     },
     "execution_count": 8,
     "metadata": {},
     "output_type": "execute_result"
    }
   ],
   "source": [
    "rows_with_missing_values = data[data.isnull().any(axis=1)]\n",
    "rows_with_missing_values.groupby('бренд')['бренд'].count().sort_values(ascending=False)"
   ]
  },
  {
   "cell_type": "markdown",
   "id": "4d2a3af0",
   "metadata": {},
   "source": [
    "Большое количество пропусков у брендов Камаз и Renault, изучим их подробнее"
   ]
  },
  {
   "cell_type": "code",
   "execution_count": 9,
   "id": "3fcd09ce",
   "metadata": {},
   "outputs": [
    {
     "data": {
      "text/html": [
       "<div>\n",
       "<style scoped>\n",
       "    .dataframe tbody tr th:only-of-type {\n",
       "        vertical-align: middle;\n",
       "    }\n",
       "\n",
       "    .dataframe tbody tr th {\n",
       "        vertical-align: top;\n",
       "    }\n",
       "\n",
       "    .dataframe thead th {\n",
       "        text-align: right;\n",
       "    }\n",
       "</style>\n",
       "<table border=\"1\" class=\"dataframe\">\n",
       "  <thead>\n",
       "    <tr style=\"text-align: right;\">\n",
       "      <th></th>\n",
       "      <th>год</th>\n",
       "      <th>месяц</th>\n",
       "      <th>компания</th>\n",
       "      <th>бренд</th>\n",
       "      <th>модель</th>\n",
       "      <th>год_выпуска</th>\n",
       "      <th>страна_производитель</th>\n",
       "      <th>вид_топлива</th>\n",
       "      <th>объём_двиг_л</th>\n",
       "      <th>коробка_передач</th>\n",
       "      <th>тип_привода</th>\n",
       "      <th>регион</th>\n",
       "      <th>количество</th>\n",
       "      <th>цена_usd</th>\n",
       "      <th>продажа_usd</th>\n",
       "      <th>область</th>\n",
       "      <th>сегментация_2013</th>\n",
       "      <th>класс_2013</th>\n",
       "    </tr>\n",
       "  </thead>\n",
       "  <tbody>\n",
       "    <tr>\n",
       "      <th>10401</th>\n",
       "      <td>2019</td>\n",
       "      <td>Январь</td>\n",
       "      <td>ТК КАМАЗ</td>\n",
       "      <td>KAMAZ</td>\n",
       "      <td>4308</td>\n",
       "      <td>2013</td>\n",
       "      <td>Российская Федерация</td>\n",
       "      <td>Дизель</td>\n",
       "      <td>NaN</td>\n",
       "      <td>MT</td>\n",
       "      <td>NaN</td>\n",
       "      <td>Алматы</td>\n",
       "      <td>1.0</td>\n",
       "      <td>46411.13931240127</td>\n",
       "      <td>46411.13931240127</td>\n",
       "      <td>г.Алматы</td>\n",
       "      <td>Коммерческие автомобили</td>\n",
       "      <td>Крупнотоннажные грузовики</td>\n",
       "    </tr>\n",
       "    <tr>\n",
       "      <th>10402</th>\n",
       "      <td>2019</td>\n",
       "      <td>Июль</td>\n",
       "      <td>ТК КАМАЗ</td>\n",
       "      <td>KAMAZ</td>\n",
       "      <td>43114</td>\n",
       "      <td>2017</td>\n",
       "      <td>Республика Казахстан</td>\n",
       "      <td>Дизель</td>\n",
       "      <td>NaN</td>\n",
       "      <td>MT</td>\n",
       "      <td>NaN</td>\n",
       "      <td>Актау</td>\n",
       "      <td>1.0</td>\n",
       "      <td>32340.701856311567</td>\n",
       "      <td>32340.701856311567</td>\n",
       "      <td>Мангистауская область</td>\n",
       "      <td>Коммерческие автомобили</td>\n",
       "      <td>Крупнотоннажные грузовики</td>\n",
       "    </tr>\n",
       "    <tr>\n",
       "      <th>10403</th>\n",
       "      <td>2019</td>\n",
       "      <td>Июль</td>\n",
       "      <td>ТК КАМАЗ</td>\n",
       "      <td>KAMAZ</td>\n",
       "      <td>43114</td>\n",
       "      <td>2017</td>\n",
       "      <td>Республика Казахстан</td>\n",
       "      <td>Дизель</td>\n",
       "      <td>NaN</td>\n",
       "      <td>MT</td>\n",
       "      <td>NaN</td>\n",
       "      <td>Усть-Каменогорск</td>\n",
       "      <td>1.0</td>\n",
       "      <td>32340.701856311567</td>\n",
       "      <td>32340.701856311567</td>\n",
       "      <td>Восточно-Казахстанская область</td>\n",
       "      <td>Коммерческие автомобили</td>\n",
       "      <td>Крупнотоннажные грузовики</td>\n",
       "    </tr>\n",
       "    <tr>\n",
       "      <th>10404</th>\n",
       "      <td>2019</td>\n",
       "      <td>Июль</td>\n",
       "      <td>ТК КАМАЗ</td>\n",
       "      <td>KAMAZ</td>\n",
       "      <td>43114</td>\n",
       "      <td>2017</td>\n",
       "      <td>Республика Казахстан</td>\n",
       "      <td>Дизель</td>\n",
       "      <td>NaN</td>\n",
       "      <td>MT</td>\n",
       "      <td>NaN</td>\n",
       "      <td>Костанай</td>\n",
       "      <td>1.0</td>\n",
       "      <td>32340.701856311567</td>\n",
       "      <td>32340.701856311567</td>\n",
       "      <td>Костанайская область</td>\n",
       "      <td>Коммерческие автомобили</td>\n",
       "      <td>Крупнотоннажные грузовики</td>\n",
       "    </tr>\n",
       "    <tr>\n",
       "      <th>10405</th>\n",
       "      <td>2019</td>\n",
       "      <td>Январь</td>\n",
       "      <td>ТК КАМАЗ</td>\n",
       "      <td>KAMAZ</td>\n",
       "      <td>43118</td>\n",
       "      <td>2017</td>\n",
       "      <td>Республика Казахстан</td>\n",
       "      <td>Дизель</td>\n",
       "      <td>NaN</td>\n",
       "      <td>MT</td>\n",
       "      <td>NaN</td>\n",
       "      <td>Астана</td>\n",
       "      <td>1.0</td>\n",
       "      <td>64705.986759198444</td>\n",
       "      <td>64705.986759198444</td>\n",
       "      <td>г.Астана</td>\n",
       "      <td>Коммерческие автомобили</td>\n",
       "      <td>Крупнотоннажные грузовики</td>\n",
       "    </tr>\n",
       "    <tr>\n",
       "      <th>10406</th>\n",
       "      <td>2019</td>\n",
       "      <td>Январь</td>\n",
       "      <td>ТК КАМАЗ</td>\n",
       "      <td>KAMAZ</td>\n",
       "      <td>43118</td>\n",
       "      <td>2017</td>\n",
       "      <td>Республика Казахстан</td>\n",
       "      <td>Дизель</td>\n",
       "      <td>NaN</td>\n",
       "      <td>MT</td>\n",
       "      <td>NaN</td>\n",
       "      <td>Актобе</td>\n",
       "      <td>1.0</td>\n",
       "      <td>64705.986759198444</td>\n",
       "      <td>64705.986759198444</td>\n",
       "      <td>Актюбинская область</td>\n",
       "      <td>Коммерческие автомобили</td>\n",
       "      <td>Крупнотоннажные грузовики</td>\n",
       "    </tr>\n",
       "    <tr>\n",
       "      <th>10407</th>\n",
       "      <td>2019</td>\n",
       "      <td>Январь</td>\n",
       "      <td>ТК КАМАЗ</td>\n",
       "      <td>KAMAZ</td>\n",
       "      <td>43118</td>\n",
       "      <td>2017</td>\n",
       "      <td>Республика Казахстан</td>\n",
       "      <td>Дизель</td>\n",
       "      <td>NaN</td>\n",
       "      <td>MT</td>\n",
       "      <td>NaN</td>\n",
       "      <td>Актобе</td>\n",
       "      <td>1.0</td>\n",
       "      <td>64705.986759198444</td>\n",
       "      <td>64705.986759198444</td>\n",
       "      <td>Актюбинская область</td>\n",
       "      <td>Коммерческие автомобили</td>\n",
       "      <td>Крупнотоннажные грузовики</td>\n",
       "    </tr>\n",
       "    <tr>\n",
       "      <th>10408</th>\n",
       "      <td>2019</td>\n",
       "      <td>Январь</td>\n",
       "      <td>ТК КАМАЗ</td>\n",
       "      <td>KAMAZ</td>\n",
       "      <td>43118</td>\n",
       "      <td>2017</td>\n",
       "      <td>Республика Казахстан</td>\n",
       "      <td>Дизель</td>\n",
       "      <td>NaN</td>\n",
       "      <td>MT</td>\n",
       "      <td>NaN</td>\n",
       "      <td>Атырау</td>\n",
       "      <td>1.0</td>\n",
       "      <td>64705.986759198444</td>\n",
       "      <td>64705.986759198444</td>\n",
       "      <td>Атырауская область</td>\n",
       "      <td>Коммерческие автомобили</td>\n",
       "      <td>Крупнотоннажные грузовики</td>\n",
       "    </tr>\n",
       "    <tr>\n",
       "      <th>10409</th>\n",
       "      <td>2019</td>\n",
       "      <td>Январь</td>\n",
       "      <td>ТК КАМАЗ</td>\n",
       "      <td>KAMAZ</td>\n",
       "      <td>43118</td>\n",
       "      <td>2017</td>\n",
       "      <td>Республика Казахстан</td>\n",
       "      <td>Дизель</td>\n",
       "      <td>NaN</td>\n",
       "      <td>MT</td>\n",
       "      <td>NaN</td>\n",
       "      <td>Астана</td>\n",
       "      <td>1.0</td>\n",
       "      <td>64705.986759198444</td>\n",
       "      <td>64705.986759198444</td>\n",
       "      <td>г.Астана</td>\n",
       "      <td>Коммерческие автомобили</td>\n",
       "      <td>Крупнотоннажные грузовики</td>\n",
       "    </tr>\n",
       "    <tr>\n",
       "      <th>10410</th>\n",
       "      <td>2019</td>\n",
       "      <td>Январь</td>\n",
       "      <td>ТК КАМАЗ</td>\n",
       "      <td>KAMAZ</td>\n",
       "      <td>43118</td>\n",
       "      <td>2017</td>\n",
       "      <td>Республика Казахстан</td>\n",
       "      <td>Дизель</td>\n",
       "      <td>NaN</td>\n",
       "      <td>MT</td>\n",
       "      <td>NaN</td>\n",
       "      <td>Астана</td>\n",
       "      <td>1.0</td>\n",
       "      <td>64705.986759198444</td>\n",
       "      <td>64705.986759198444</td>\n",
       "      <td>г.Астана</td>\n",
       "      <td>Коммерческие автомобили</td>\n",
       "      <td>Крупнотоннажные грузовики</td>\n",
       "    </tr>\n",
       "  </tbody>\n",
       "</table>\n",
       "</div>"
      ],
      "text/plain": [
       "        год   месяц  компания  бренд модель год_выпуска  страна_производитель  \\\n",
       "10401  2019  Январь  ТК КАМАЗ  KAMAZ   4308        2013  Российская Федерация   \n",
       "10402  2019    Июль  ТК КАМАЗ  KAMAZ  43114        2017  Республика Казахстан   \n",
       "10403  2019    Июль  ТК КАМАЗ  KAMAZ  43114        2017  Республика Казахстан   \n",
       "10404  2019    Июль  ТК КАМАЗ  KAMAZ  43114        2017  Республика Казахстан   \n",
       "10405  2019  Январь  ТК КАМАЗ  KAMAZ  43118        2017  Республика Казахстан   \n",
       "10406  2019  Январь  ТК КАМАЗ  KAMAZ  43118        2017  Республика Казахстан   \n",
       "10407  2019  Январь  ТК КАМАЗ  KAMAZ  43118        2017  Республика Казахстан   \n",
       "10408  2019  Январь  ТК КАМАЗ  KAMAZ  43118        2017  Республика Казахстан   \n",
       "10409  2019  Январь  ТК КАМАЗ  KAMAZ  43118        2017  Республика Казахстан   \n",
       "10410  2019  Январь  ТК КАМАЗ  KAMAZ  43118        2017  Республика Казахстан   \n",
       "\n",
       "      вид_топлива объём_двиг_л коробка_передач тип_привода            регион  \\\n",
       "10401      Дизель          NaN              MT         NaN            Алматы   \n",
       "10402      Дизель          NaN              MT         NaN             Актау   \n",
       "10403      Дизель          NaN              MT         NaN  Усть-Каменогорск   \n",
       "10404      Дизель          NaN              MT         NaN          Костанай   \n",
       "10405      Дизель          NaN              MT         NaN            Астана   \n",
       "10406      Дизель          NaN              MT         NaN            Актобе   \n",
       "10407      Дизель          NaN              MT         NaN            Актобе   \n",
       "10408      Дизель          NaN              MT         NaN            Атырау   \n",
       "10409      Дизель          NaN              MT         NaN            Астана   \n",
       "10410      Дизель          NaN              MT         NaN            Астана   \n",
       "\n",
       "      количество            цена_usd         продажа_usd  \\\n",
       "10401        1.0   46411.13931240127   46411.13931240127   \n",
       "10402        1.0  32340.701856311567  32340.701856311567   \n",
       "10403        1.0  32340.701856311567  32340.701856311567   \n",
       "10404        1.0  32340.701856311567  32340.701856311567   \n",
       "10405        1.0  64705.986759198444  64705.986759198444   \n",
       "10406        1.0  64705.986759198444  64705.986759198444   \n",
       "10407        1.0  64705.986759198444  64705.986759198444   \n",
       "10408        1.0  64705.986759198444  64705.986759198444   \n",
       "10409        1.0  64705.986759198444  64705.986759198444   \n",
       "10410        1.0  64705.986759198444  64705.986759198444   \n",
       "\n",
       "                              область          сегментация_2013  \\\n",
       "10401                        г.Алматы  Коммерческие автомобили    \n",
       "10402           Мангистауская область  Коммерческие автомобили    \n",
       "10403  Восточно-Казахстанская область  Коммерческие автомобили    \n",
       "10404            Костанайская область  Коммерческие автомобили    \n",
       "10405                        г.Астана  Коммерческие автомобили    \n",
       "10406             Актюбинская область  Коммерческие автомобили    \n",
       "10407             Актюбинская область  Коммерческие автомобили    \n",
       "10408              Атырауская область  Коммерческие автомобили    \n",
       "10409                        г.Астана  Коммерческие автомобили    \n",
       "10410                        г.Астана  Коммерческие автомобили    \n",
       "\n",
       "                       класс_2013  \n",
       "10401  Крупнотоннажные грузовики   \n",
       "10402  Крупнотоннажные грузовики   \n",
       "10403  Крупнотоннажные грузовики   \n",
       "10404  Крупнотоннажные грузовики   \n",
       "10405  Крупнотоннажные грузовики   \n",
       "10406  Крупнотоннажные грузовики   \n",
       "10407  Крупнотоннажные грузовики   \n",
       "10408  Крупнотоннажные грузовики   \n",
       "10409  Крупнотоннажные грузовики   \n",
       "10410  Крупнотоннажные грузовики   "
      ]
     },
     "execution_count": 9,
     "metadata": {},
     "output_type": "execute_result"
    }
   ],
   "source": [
    "rows_with_missing_values[rows_with_missing_values['бренд'] == 'KAMAZ'].head(10)"
   ]
  },
  {
   "cell_type": "code",
   "execution_count": 10,
   "id": "de0a1a34",
   "metadata": {},
   "outputs": [
    {
     "data": {
      "text/html": [
       "<div>\n",
       "<style scoped>\n",
       "    .dataframe tbody tr th:only-of-type {\n",
       "        vertical-align: middle;\n",
       "    }\n",
       "\n",
       "    .dataframe tbody tr th {\n",
       "        vertical-align: top;\n",
       "    }\n",
       "\n",
       "    .dataframe thead th {\n",
       "        text-align: right;\n",
       "    }\n",
       "</style>\n",
       "<table border=\"1\" class=\"dataframe\">\n",
       "  <thead>\n",
       "    <tr style=\"text-align: right;\">\n",
       "      <th></th>\n",
       "      <th>год</th>\n",
       "      <th>месяц</th>\n",
       "      <th>компания</th>\n",
       "      <th>бренд</th>\n",
       "      <th>модель</th>\n",
       "      <th>год_выпуска</th>\n",
       "      <th>страна_производитель</th>\n",
       "      <th>вид_топлива</th>\n",
       "      <th>объём_двиг_л</th>\n",
       "      <th>коробка_передач</th>\n",
       "      <th>тип_привода</th>\n",
       "      <th>регион</th>\n",
       "      <th>количество</th>\n",
       "      <th>цена_usd</th>\n",
       "      <th>продажа_usd</th>\n",
       "      <th>область</th>\n",
       "      <th>сегментация_2013</th>\n",
       "      <th>класс_2013</th>\n",
       "    </tr>\n",
       "  </thead>\n",
       "  <tbody>\n",
       "    <tr>\n",
       "      <th>32366</th>\n",
       "      <td>2019</td>\n",
       "      <td>Август</td>\n",
       "      <td>Renault Россия</td>\n",
       "      <td>Renault</td>\n",
       "      <td>Dokker</td>\n",
       "      <td>2018</td>\n",
       "      <td>Российская Федерация</td>\n",
       "      <td>NaN</td>\n",
       "      <td>NaN</td>\n",
       "      <td>NaN</td>\n",
       "      <td>NaN</td>\n",
       "      <td>Уральск</td>\n",
       "      <td>1.0</td>\n",
       "      <td>14732.788631556505</td>\n",
       "      <td>14732.788631556505</td>\n",
       "      <td>Западно-Казахстанская область</td>\n",
       "      <td>Коммерческие автомобили</td>\n",
       "      <td>Развозные автомобили</td>\n",
       "    </tr>\n",
       "    <tr>\n",
       "      <th>32367</th>\n",
       "      <td>2019</td>\n",
       "      <td>Август</td>\n",
       "      <td>Renault Россия</td>\n",
       "      <td>Renault</td>\n",
       "      <td>Dokker</td>\n",
       "      <td>2018</td>\n",
       "      <td>Российская Федерация</td>\n",
       "      <td>NaN</td>\n",
       "      <td>NaN</td>\n",
       "      <td>NaN</td>\n",
       "      <td>NaN</td>\n",
       "      <td>Уральск</td>\n",
       "      <td>1.0</td>\n",
       "      <td>14732.788631556505</td>\n",
       "      <td>14732.788631556505</td>\n",
       "      <td>Западно-Казахстанская область</td>\n",
       "      <td>Коммерческие автомобили</td>\n",
       "      <td>Развозные автомобили</td>\n",
       "    </tr>\n",
       "    <tr>\n",
       "      <th>32368</th>\n",
       "      <td>2019</td>\n",
       "      <td>Август</td>\n",
       "      <td>Renault Россия</td>\n",
       "      <td>Renault</td>\n",
       "      <td>Dokker</td>\n",
       "      <td>2018</td>\n",
       "      <td>Российская Федерация</td>\n",
       "      <td>NaN</td>\n",
       "      <td>NaN</td>\n",
       "      <td>NaN</td>\n",
       "      <td>NaN</td>\n",
       "      <td>Шымкент</td>\n",
       "      <td>1.0</td>\n",
       "      <td>14732.788631556505</td>\n",
       "      <td>14732.788631556505</td>\n",
       "      <td>Южно-Казахстанская область</td>\n",
       "      <td>Коммерческие автомобили</td>\n",
       "      <td>Развозные автомобили</td>\n",
       "    </tr>\n",
       "    <tr>\n",
       "      <th>32369</th>\n",
       "      <td>2019</td>\n",
       "      <td>Август</td>\n",
       "      <td>Renault Россия</td>\n",
       "      <td>Renault</td>\n",
       "      <td>Dokker</td>\n",
       "      <td>2018</td>\n",
       "      <td>Российская Федерация</td>\n",
       "      <td>NaN</td>\n",
       "      <td>NaN</td>\n",
       "      <td>NaN</td>\n",
       "      <td>NaN</td>\n",
       "      <td>Алматы</td>\n",
       "      <td>1.0</td>\n",
       "      <td>14732.788631556505</td>\n",
       "      <td>14732.788631556505</td>\n",
       "      <td>г.Алматы</td>\n",
       "      <td>Коммерческие автомобили</td>\n",
       "      <td>Развозные автомобили</td>\n",
       "    </tr>\n",
       "    <tr>\n",
       "      <th>32370</th>\n",
       "      <td>2019</td>\n",
       "      <td>Август</td>\n",
       "      <td>Renault Россия</td>\n",
       "      <td>Renault</td>\n",
       "      <td>Dokker</td>\n",
       "      <td>2018</td>\n",
       "      <td>Российская Федерация</td>\n",
       "      <td>NaN</td>\n",
       "      <td>NaN</td>\n",
       "      <td>NaN</td>\n",
       "      <td>NaN</td>\n",
       "      <td>Шымкент</td>\n",
       "      <td>1.0</td>\n",
       "      <td>14732.788631556505</td>\n",
       "      <td>14732.788631556505</td>\n",
       "      <td>Южно-Казахстанская область</td>\n",
       "      <td>Коммерческие автомобили</td>\n",
       "      <td>Развозные автомобили</td>\n",
       "    </tr>\n",
       "    <tr>\n",
       "      <th>32371</th>\n",
       "      <td>2019</td>\n",
       "      <td>Август</td>\n",
       "      <td>Renault Россия</td>\n",
       "      <td>Renault</td>\n",
       "      <td>Dokker</td>\n",
       "      <td>2018</td>\n",
       "      <td>Российская Федерация</td>\n",
       "      <td>NaN</td>\n",
       "      <td>NaN</td>\n",
       "      <td>NaN</td>\n",
       "      <td>NaN</td>\n",
       "      <td>Алматы</td>\n",
       "      <td>1.0</td>\n",
       "      <td>14584.34038108645</td>\n",
       "      <td>14584.34038108645</td>\n",
       "      <td>г.Алматы</td>\n",
       "      <td>Коммерческие автомобили</td>\n",
       "      <td>Развозные автомобили</td>\n",
       "    </tr>\n",
       "    <tr>\n",
       "      <th>32372</th>\n",
       "      <td>2019</td>\n",
       "      <td>Август</td>\n",
       "      <td>Renault Россия</td>\n",
       "      <td>Renault</td>\n",
       "      <td>Dokker</td>\n",
       "      <td>2018</td>\n",
       "      <td>Российская Федерация</td>\n",
       "      <td>NaN</td>\n",
       "      <td>NaN</td>\n",
       "      <td>NaN</td>\n",
       "      <td>NaN</td>\n",
       "      <td>Алматы</td>\n",
       "      <td>1.0</td>\n",
       "      <td>14584.34038108645</td>\n",
       "      <td>14584.34038108645</td>\n",
       "      <td>г.Алматы</td>\n",
       "      <td>Коммерческие автомобили</td>\n",
       "      <td>Развозные автомобили</td>\n",
       "    </tr>\n",
       "    <tr>\n",
       "      <th>32373</th>\n",
       "      <td>2019</td>\n",
       "      <td>Август</td>\n",
       "      <td>Renault Россия</td>\n",
       "      <td>Renault</td>\n",
       "      <td>Dokker</td>\n",
       "      <td>2018</td>\n",
       "      <td>Российская Федерация</td>\n",
       "      <td>NaN</td>\n",
       "      <td>NaN</td>\n",
       "      <td>NaN</td>\n",
       "      <td>NaN</td>\n",
       "      <td>Астана</td>\n",
       "      <td>1.0</td>\n",
       "      <td>14732.788631556505</td>\n",
       "      <td>14732.788631556505</td>\n",
       "      <td>г.Астана</td>\n",
       "      <td>Коммерческие автомобили</td>\n",
       "      <td>Развозные автомобили</td>\n",
       "    </tr>\n",
       "    <tr>\n",
       "      <th>32374</th>\n",
       "      <td>2019</td>\n",
       "      <td>Август</td>\n",
       "      <td>Renault Россия</td>\n",
       "      <td>Renault</td>\n",
       "      <td>Dokker</td>\n",
       "      <td>2018</td>\n",
       "      <td>Российская Федерация</td>\n",
       "      <td>NaN</td>\n",
       "      <td>NaN</td>\n",
       "      <td>NaN</td>\n",
       "      <td>NaN</td>\n",
       "      <td>Костанай</td>\n",
       "      <td>1.0</td>\n",
       "      <td>14732.788631556505</td>\n",
       "      <td>14732.788631556505</td>\n",
       "      <td>Костанайская область</td>\n",
       "      <td>Коммерческие автомобили</td>\n",
       "      <td>Развозные автомобили</td>\n",
       "    </tr>\n",
       "    <tr>\n",
       "      <th>32375</th>\n",
       "      <td>2019</td>\n",
       "      <td>Август</td>\n",
       "      <td>Renault Россия</td>\n",
       "      <td>Renault</td>\n",
       "      <td>Dokker</td>\n",
       "      <td>2018</td>\n",
       "      <td>Российская Федерация</td>\n",
       "      <td>NaN</td>\n",
       "      <td>NaN</td>\n",
       "      <td>NaN</td>\n",
       "      <td>NaN</td>\n",
       "      <td>Астана</td>\n",
       "      <td>1.0</td>\n",
       "      <td>14732.788631556505</td>\n",
       "      <td>14732.788631556505</td>\n",
       "      <td>г.Астана</td>\n",
       "      <td>Коммерческие автомобили</td>\n",
       "      <td>Развозные автомобили</td>\n",
       "    </tr>\n",
       "  </tbody>\n",
       "</table>\n",
       "</div>"
      ],
      "text/plain": [
       "        год   месяц        компания    бренд  модель год_выпуска  \\\n",
       "32366  2019  Август  Renault Россия  Renault  Dokker        2018   \n",
       "32367  2019  Август  Renault Россия  Renault  Dokker        2018   \n",
       "32368  2019  Август  Renault Россия  Renault  Dokker        2018   \n",
       "32369  2019  Август  Renault Россия  Renault  Dokker        2018   \n",
       "32370  2019  Август  Renault Россия  Renault  Dokker        2018   \n",
       "32371  2019  Август  Renault Россия  Renault  Dokker        2018   \n",
       "32372  2019  Август  Renault Россия  Renault  Dokker        2018   \n",
       "32373  2019  Август  Renault Россия  Renault  Dokker        2018   \n",
       "32374  2019  Август  Renault Россия  Renault  Dokker        2018   \n",
       "32375  2019  Август  Renault Россия  Renault  Dokker        2018   \n",
       "\n",
       "       страна_производитель вид_топлива объём_двиг_л коробка_передач  \\\n",
       "32366  Российская Федерация         NaN          NaN             NaN   \n",
       "32367  Российская Федерация         NaN          NaN             NaN   \n",
       "32368  Российская Федерация         NaN          NaN             NaN   \n",
       "32369  Российская Федерация         NaN          NaN             NaN   \n",
       "32370  Российская Федерация         NaN          NaN             NaN   \n",
       "32371  Российская Федерация         NaN          NaN             NaN   \n",
       "32372  Российская Федерация         NaN          NaN             NaN   \n",
       "32373  Российская Федерация         NaN          NaN             NaN   \n",
       "32374  Российская Федерация         NaN          NaN             NaN   \n",
       "32375  Российская Федерация         NaN          NaN             NaN   \n",
       "\n",
       "      тип_привода    регион количество            цена_usd  \\\n",
       "32366         NaN   Уральск        1.0  14732.788631556505   \n",
       "32367         NaN   Уральск        1.0  14732.788631556505   \n",
       "32368         NaN   Шымкент        1.0  14732.788631556505   \n",
       "32369         NaN    Алматы        1.0  14732.788631556505   \n",
       "32370         NaN   Шымкент        1.0  14732.788631556505   \n",
       "32371         NaN    Алматы        1.0   14584.34038108645   \n",
       "32372         NaN    Алматы        1.0   14584.34038108645   \n",
       "32373         NaN    Астана        1.0  14732.788631556505   \n",
       "32374         NaN  Костанай        1.0  14732.788631556505   \n",
       "32375         NaN    Астана        1.0  14732.788631556505   \n",
       "\n",
       "              продажа_usd                        область  \\\n",
       "32366  14732.788631556505  Западно-Казахстанская область   \n",
       "32367  14732.788631556505  Западно-Казахстанская область   \n",
       "32368  14732.788631556505     Южно-Казахстанская область   \n",
       "32369  14732.788631556505                       г.Алматы   \n",
       "32370  14732.788631556505     Южно-Казахстанская область   \n",
       "32371   14584.34038108645                       г.Алматы   \n",
       "32372   14584.34038108645                       г.Алматы   \n",
       "32373  14732.788631556505                       г.Астана   \n",
       "32374  14732.788631556505           Костанайская область   \n",
       "32375  14732.788631556505                       г.Астана   \n",
       "\n",
       "               сегментация_2013             класс_2013  \n",
       "32366  Коммерческие автомобили   Развозные автомобили   \n",
       "32367  Коммерческие автомобили   Развозные автомобили   \n",
       "32368  Коммерческие автомобили   Развозные автомобили   \n",
       "32369  Коммерческие автомобили   Развозные автомобили   \n",
       "32370  Коммерческие автомобили   Развозные автомобили   \n",
       "32371  Коммерческие автомобили   Развозные автомобили   \n",
       "32372  Коммерческие автомобили   Развозные автомобили   \n",
       "32373  Коммерческие автомобили   Развозные автомобили   \n",
       "32374  Коммерческие автомобили   Развозные автомобили   \n",
       "32375  Коммерческие автомобили   Развозные автомобили   "
      ]
     },
     "execution_count": 10,
     "metadata": {},
     "output_type": "execute_result"
    }
   ],
   "source": [
    "rows_with_missing_values[rows_with_missing_values['бренд'] == 'Renault'].tail(10)"
   ]
  },
  {
   "cell_type": "markdown",
   "id": "26629eb5",
   "metadata": {},
   "source": [
    "Есть много строк с пропусками сразу в нескольких столбцах. Можно было бы заполнить пропуски у Камаза, но он не будет иметь отношения к исследованию. Вот Renault заполнить не получится. При этом общее число строк с пропусками не такое большое, поэтому, чтобы до старости не вставлять значения по модели автомобиля, пропуски удалим."
   ]
  },
  {
   "cell_type": "code",
   "execution_count": 11,
   "id": "b626fa98",
   "metadata": {},
   "outputs": [
    {
     "data": {
      "text/plain": [
       "30214"
      ]
     },
     "execution_count": 11,
     "metadata": {},
     "output_type": "execute_result"
    }
   ],
   "source": [
    "# удалим пропуски\n",
    "data = data.dropna()\n",
    "len(data)"
   ]
  },
  {
   "cell_type": "markdown",
   "id": "1c9d2430",
   "metadata": {},
   "source": [
    "### Дубликаты"
   ]
  },
  {
   "cell_type": "code",
   "execution_count": 12,
   "id": "69ce80ba",
   "metadata": {},
   "outputs": [
    {
     "data": {
      "text/plain": [
       "15600"
      ]
     },
     "execution_count": 12,
     "metadata": {},
     "output_type": "execute_result"
    }
   ],
   "source": [
    "data.duplicated().sum()"
   ]
  },
  {
   "cell_type": "markdown",
   "id": "36c0f086",
   "metadata": {},
   "source": [
    "Почти половина строк дубликаты, однако для рынка автомобилей это нормальное явление, комплектации могут быть схожи. По VIN номерам, которые в датасете отсутсвуют из соображений конфиденциальности, дубликаты не обнаружены."
   ]
  },
  {
   "cell_type": "markdown",
   "id": "b45f651f",
   "metadata": {},
   "source": [
    "### Кодировка стран\n",
    "Перекодируем страны в столбце Страна производства в alpha3 (RUS, KAZ, USA и т.д.)"
   ]
  },
  {
   "cell_type": "code",
   "execution_count": 13,
   "id": "51e77194",
   "metadata": {},
   "outputs": [
    {
     "data": {
      "text/plain": [
       "array(['Германия', 'США', 'Республика Казахстан', 'Российская Федерация',\n",
       "       'Белоруссия', 'Турция', 'Япония', 'Корея', 'Вьетнам', 'UK',\n",
       "       'Таиланд', 'Узбекистан', 'Австрия', 'Нидерланды', 'Венгрия',\n",
       "       'Швеция'], dtype=object)"
      ]
     },
     "execution_count": 13,
     "metadata": {},
     "output_type": "execute_result"
    }
   ],
   "source": [
    "# посмотрим, какие страны присутствуют в столбце\n",
    "data['страна_производитель'].unique()"
   ]
  },
  {
   "cell_type": "code",
   "execution_count": 14,
   "id": "fb65d070",
   "metadata": {},
   "outputs": [
    {
     "data": {
      "text/plain": [
       "list"
      ]
     },
     "execution_count": 14,
     "metadata": {},
     "output_type": "execute_result"
    }
   ],
   "source": [
    "# Используем метод pd.read_html для извлечения данных с кодировкой с сайта в ноутбук\n",
    "type(pd.read_html('https://www.artlebedev.ru/country-list/', encoding='utf8'))"
   ]
  },
  {
   "cell_type": "code",
   "execution_count": 15,
   "id": "a9ea0a1e",
   "metadata": {},
   "outputs": [
    {
     "data": {
      "text/plain": [
       "pandas.core.frame.DataFrame"
      ]
     },
     "execution_count": 15,
     "metadata": {},
     "output_type": "execute_result"
    }
   ],
   "source": [
    "# посмотрим первый элемент списка\n",
    "type(pd.read_html('https://www.artlebedev.ru/country-list/', encoding='utf8')[0])"
   ]
  },
  {
   "cell_type": "markdown",
   "id": "54ea65be",
   "metadata": {},
   "source": [
    "Делаем датасет с кодами стран путем загрузки данных с сайта, одновременно\n",
    "переименуем столбцы на английский язык для удобства работы"
   ]
  },
  {
   "cell_type": "code",
   "execution_count": 16,
   "id": "d4bed883",
   "metadata": {},
   "outputs": [],
   "source": [
    "countries_codes = (pd.read_html('https://www.artlebedev.ru/country-list/', encoding='utf8')[0]\n",
    "                   [['Наименование', 'Полное наименование', 'Alpha3']]\n",
    "                  .rename(columns={'Наименование':'name', 'Полное наименование':'full_name'})\n",
    "                  )"
   ]
  },
  {
   "cell_type": "markdown",
   "id": "23977249",
   "metadata": {},
   "source": [
    "Создаем словарь для замены названий стран на коды Alpha3. Ключи - названия стран,\n",
    "значения - коды."
   ]
  },
  {
   "cell_type": "code",
   "execution_count": 17,
   "id": "58c295f9",
   "metadata": {},
   "outputs": [],
   "source": [
    "countries_codes_dict = {}\n",
    "\n",
    "for i in range(len(countries_codes)):\n",
    "    if countries_codes.loc[i]['name'] not in countries_codes_dict:\n",
    "        countries_codes_dict[countries_codes.loc[i]['name']] = countries_codes.loc[i]['Alpha3']\n",
    "        \n",
    "    if countries_codes.loc[i]['full_name'] not in countries_codes_dict:\n",
    "        countries_codes_dict[countries_codes.loc[i]['full_name']] = countries_codes.loc[i]['Alpha3']"
   ]
  },
  {
   "cell_type": "markdown",
   "id": "9e47c519",
   "metadata": {},
   "source": [
    "Производим замену по словарю методом get и lambda-функцией.\n",
    "Данный способ вернет нам значение ячейки, даже если ее нет в ключах словаря"
   ]
  },
  {
   "cell_type": "code",
   "execution_count": 18,
   "id": "b7f953af",
   "metadata": {},
   "outputs": [
    {
     "data": {
      "text/plain": [
       "array(['DEU', 'США', 'KAZ', 'RUS', 'Белоруссия', 'TUR', 'JPN', 'Корея',\n",
       "       'VNM', 'UK', 'THA', 'UZB', 'AUT', 'NLD', 'HUN', 'SWE'],\n",
       "      dtype=object)"
      ]
     },
     "execution_count": 18,
     "metadata": {},
     "output_type": "execute_result"
    }
   ],
   "source": [
    "data['страна_производитель'] = data['страна_производитель'].apply(lambda cell: countries_codes_dict.get(cell, cell))\n",
    "data['страна_производитель'].unique()"
   ]
  },
  {
   "cell_type": "markdown",
   "id": "b6bda9cb",
   "metadata": {},
   "source": [
    "Три страны не изменились, переименуем вручную"
   ]
  },
  {
   "cell_type": "code",
   "execution_count": 19,
   "id": "98e896da",
   "metadata": {},
   "outputs": [
    {
     "data": {
      "text/plain": [
       "array(['DEU', 'USA', 'KAZ', 'RUS', 'BLR', 'TUR', 'JPN', 'KOR', 'VNM',\n",
       "       'UK', 'THA', 'UZB', 'AUT', 'NLD', 'HUN', 'SWE'], dtype=object)"
      ]
     },
     "execution_count": 19,
     "metadata": {},
     "output_type": "execute_result"
    }
   ],
   "source": [
    "data['страна_производитель'] = (data['страна_производитель'].str.replace('США', 'USA')\n",
    "                                .str.replace('Корея', 'KOR')\n",
    "                                .str.replace('Белоруссия', 'BLR'))\n",
    "data['страна_производитель'].unique()"
   ]
  },
  {
   "cell_type": "markdown",
   "id": "18fe3657",
   "metadata": {},
   "source": [
    "Поменяем названия ключей стран, которые не прошли замену, с помощью метода pop"
   ]
  },
  {
   "cell_type": "code",
   "execution_count": 20,
   "id": "4f6c167d",
   "metadata": {},
   "outputs": [],
   "source": [
    "new_codes_dict = countries_codes_dict\n",
    "\n",
    "new_codes_dict['Белоруссия'] = new_codes_dict.pop('Беларусь')\n",
    "new_codes_dict['США'] = new_codes_dict.pop('Соединенные Штаты')\n",
    "new_codes_dict['Корея'] = new_codes_dict.pop('Корея, Республика')"
   ]
  },
  {
   "cell_type": "markdown",
   "id": "291aa498",
   "metadata": {},
   "source": [
    "### Кодировка типа топлива"
   ]
  },
  {
   "cell_type": "code",
   "execution_count": 21,
   "id": "20d6790e",
   "metadata": {},
   "outputs": [
    {
     "data": {
      "text/plain": [
       "array(['Бензин', 'Дизель', 'гибрид', 'Электрический', 'дизель ',\n",
       "       'Газовый'], dtype=object)"
      ]
     },
     "execution_count": 21,
     "metadata": {},
     "output_type": "execute_result"
    }
   ],
   "source": [
    "data['вид_топлива'].unique()"
   ]
  },
  {
   "cell_type": "code",
   "execution_count": 22,
   "id": "3849964b",
   "metadata": {},
   "outputs": [
    {
     "name": "stdout",
     "output_type": "stream",
     "text": [
      "['F' 'D' 'HYB' 'E' 'G']\n"
     ]
    }
   ],
   "source": [
    "# Преобразуем тип топлива в более удобный формат\n",
    "data['вид_топлива'] = (data['вид_топлива'].str.replace('Бензин', 'F')\n",
    "                       .str.replace('Дизель', 'D')\n",
    "                       .str.replace('дизель ', 'D')\n",
    "                       .str.replace('Электрический', 'E')\n",
    "                       .str.replace('гибрид', 'HYB')\n",
    "                       .str.replace('Газовый', 'G')\n",
    "                      )\n",
    "print(data['вид_топлива'].unique())"
   ]
  },
  {
   "cell_type": "markdown",
   "id": "c3a98f76",
   "metadata": {},
   "source": [
    "### Кодировка типа привода"
   ]
  },
  {
   "cell_type": "code",
   "execution_count": 23,
   "id": "99e952c7",
   "metadata": {},
   "outputs": [
    {
     "data": {
      "text/plain": [
       "array(['FWD', 'передний', 'quattro', 'Quattro', 'RWD', '4WD', 'Полный',\n",
       "       'Задний', 'AWD', 'Передний', '4х2.2', 'Полный ', 'задний', '2WD',\n",
       "       '2 WD', '4 WD', '4х4', '4x2', 'FR', '4х2', '4x4', '2х4', 'CVT',\n",
       "       '0', ' -', '-', 'P/TIME', 'FF', 'полный', '4Motion', 'передний '],\n",
       "      dtype=object)"
      ]
     },
     "execution_count": 23,
     "metadata": {},
     "output_type": "execute_result"
    }
   ],
   "source": [
    "data['тип_привода'].unique()"
   ]
  },
  {
   "cell_type": "markdown",
   "id": "e194294e",
   "metadata": {},
   "source": [
    "Разделим тип привода на 4 категории:\n",
    " - 4WD - полный привод;\n",
    " - FWD - передний привод;\n",
    " - RWD - задний привод;\n",
    " - 2WD - подключаемые приводы или те, которые не удалось определить"
   ]
  },
  {
   "cell_type": "code",
   "execution_count": 24,
   "id": "29066458",
   "metadata": {},
   "outputs": [
    {
     "name": "stdout",
     "output_type": "stream",
     "text": [
      "['FWD' '4WD' 'RWD' '2WD']\n"
     ]
    }
   ],
   "source": [
    "def drive_encoding(drive):\n",
    "    if drive in ['quattro', 'Quattro', '4WD', 'Полный', 'AWD', '4 WD', '4х4', '4x4', 'полный', '4Motion']:\n",
    "        return '4WD'\n",
    "    elif drive in ['FWD', 'передний', 'Передний', 'FF', 'передний ']:\n",
    "        return 'FWD'\n",
    "    elif drive in ['RWD', 'Задний', 'задний']:\n",
    "        return 'RWD'\n",
    "    else:\n",
    "        return '2WD'\n",
    "\n",
    "data['тип_привода'] = data['тип_привода'].apply(drive_encoding) \n",
    "print(data['тип_привода'].unique())"
   ]
  },
  {
   "cell_type": "markdown",
   "id": "59064c9c",
   "metadata": {},
   "source": [
    "### Столбец Дата"
   ]
  },
  {
   "cell_type": "code",
   "execution_count": 25,
   "id": "1cac341c",
   "metadata": {},
   "outputs": [
    {
     "name": "stdout",
     "output_type": "stream",
     "text": [
      "['Май' 'Июнь' 'Июль' 'Январь' 'Февраль' 'Март' 'Апрель' 'Август'\n",
      " 'Сентябрь']\n"
     ]
    }
   ],
   "source": [
    "print(data['месяц'].unique())"
   ]
  },
  {
   "cell_type": "code",
   "execution_count": 26,
   "id": "3049807f",
   "metadata": {},
   "outputs": [],
   "source": [
    "# создадим словарь, чтобы первести месяцы в цифровой формат\n",
    "month_dict = {'Январь': '01',\n",
    "             'Февраль': '02',\n",
    "             'Март': '03',\n",
    "             'Апрель': '04',\n",
    "             'Май': '05',\n",
    "             'Июнь': '06',\n",
    "             'Июль': '07',\n",
    "             'Август': '08',\n",
    "             'Сентябрь': '09'}\n",
    "data['месяц'] = data['месяц'].map(month_dict)"
   ]
  },
  {
   "cell_type": "code",
   "execution_count": 27,
   "id": "c045cd0a",
   "metadata": {},
   "outputs": [],
   "source": [
    "# столбец \"год\" првератим в столбец \"дата\" путём объединения месяца и года, затем переведём его в формат даты\n",
    "data['год'] = data['год'].astype('str') + '-' + data['месяц']\n",
    "data = data.rename(columns = {'год': 'дата'})\n",
    "data = data.drop('месяц', axis=1)\n",
    "data['дата'] = pd.to_datetime(data['дата'], format='%Y-%m')"
   ]
  },
  {
   "cell_type": "markdown",
   "id": "f7a02fae",
   "metadata": {},
   "source": [
    "### Названия компаний"
   ]
  },
  {
   "cell_type": "code",
   "execution_count": 28,
   "id": "9fa97452",
   "metadata": {},
   "outputs": [
    {
     "data": {
      "text/plain": [
       "Toyota Motor Kazakhstan          10425\n",
       "Astana Motors                     5744\n",
       "БИПЭК АВТО                        3358\n",
       "Вираж                             3358\n",
       "УзАвто-Казахстан                  1727\n",
       "Allur Auto                        1304\n",
       "Nissan Manufacturing RUS          1022\n",
       "Renault Россия                     633\n",
       "Mercur Auto                        597\n",
       "Лифан Моторс Рус                   566\n",
       "Subaru Kazakhstan                  520\n",
       "ММС Рус                            279\n",
       "Автоцентр-Бавария                  197\n",
       "Каспиан Моторс                     168\n",
       "Autokapital                         97\n",
       "MMC RUS                             33\n",
       "Хино Моторс Казахстан               31\n",
       "Hyundai Com Trans Kazakhstan        26\n",
       "Eurasia Motor Premium               24\n",
       "СВС                                 24\n",
       "Scandinavian Motors                 22\n",
       "ТК Рос-Авто                         15\n",
       "Caspian Motors                      15\n",
       "Daewoo Bus Kazakhstan               15\n",
       "Sivi Finance Consulting              4\n",
       "Scania Central Asia                  4\n",
       "Jaguar Land Rover                    2\n",
       "Hino Motors Kazakhstan               2\n",
       "SMC                                  1\n",
       "Алматы АТО                           1\n",
       "Name: компания, dtype: int64"
      ]
     },
     "execution_count": 28,
     "metadata": {},
     "output_type": "execute_result"
    }
   ],
   "source": [
    "data['компания'].value_counts()"
   ]
  },
  {
   "cell_type": "markdown",
   "id": "969435a4",
   "metadata": {},
   "source": [
    "Есть 3 компании, которые написаны и на русском, и на английском языке"
   ]
  },
  {
   "cell_type": "code",
   "execution_count": 29,
   "id": "da8225d4",
   "metadata": {},
   "outputs": [],
   "source": [
    "data['компания'] = (data['компания'].str.replace('MMC RUS', 'ММС Рус')\n",
    "                    .str.replace('Caspian Motors', 'Каспиан Моторс')\n",
    "                    .str.replace('Hino Motors Kazakhstan', 'Хино Моторс Казахстан'))"
   ]
  },
  {
   "cell_type": "markdown",
   "id": "52b49960",
   "metadata": {},
   "source": [
    "### Объем двигателя"
   ]
  },
  {
   "cell_type": "code",
   "execution_count": 30,
   "id": "89f209c5",
   "metadata": {},
   "outputs": [
    {
     "data": {
      "text/plain": [
       "array(['1.4', '2', '3', '1.5', '4.4', '6.6', '0', '1.8', '1.596', '1596',\n",
       "       '2.4', '3000', '2400', '1.7', '6.2', '1800', '1400 turbo',\n",
       "       '1,4 Turbo', '2.5', '1.6', '3.5', '2.2', '2.7', '2.8', '4.2', '5',\n",
       "       '3.9', '7.5', '11', '3.933', '12.3', '1,6 T-GDI', '3.7', '5.6',\n",
       "       '10.3', '8.7', '1600', '1.998', '1.598', '1.248', '2.359', '2359',\n",
       "       '1999', '3.8', '3800', '1.591', '1.368', '3.342', '3.47', '3470',\n",
       "       '2000', '1.999', '1.69', '1690', '1.774', '1598', '1774', '4.6',\n",
       "       '3,5', '5.7', '10.5', '4', '12', '1.2', '3.6', '6.5', '5.5', '4.5',\n",
       "       '1.25', '1.3', '0.002', '0.0016', '1998', '13', '16', '1400',\n",
       "       '2.3', '1.33', '2,4G', '2.693', '2693', '2.235', '2235', '2.0',\n",
       "       '14860', '14.8', '6.7', '1,2T', '4.88', '4.0'], dtype=object)"
      ]
     },
     "execution_count": 30,
     "metadata": {},
     "output_type": "execute_result"
    }
   ],
   "source": [
    "data['объём_двиг_л'].unique()"
   ]
  },
  {
   "cell_type": "markdown",
   "id": "17e2e73a",
   "metadata": {},
   "source": [
    "Объём двигателя запсан то в литрах, то в кубических сантиметров. Приведем все к одному формату и удалим буквенные обозначения."
   ]
  },
  {
   "cell_type": "code",
   "execution_count": 31,
   "id": "6142a5d7",
   "metadata": {},
   "outputs": [],
   "source": [
    "# поменяем запятую на точку\n",
    "data['объём_двиг_л'] = data['объём_двиг_л'].str.replace(',', '.')\n",
    "\n",
    "# функция, которая удалит все символы, кроме точки и цифр\n",
    "def cleaner_engine(volume):\n",
    "    new_volume = re.sub(r'[^\\d.]', '', volume)\n",
    "    \n",
    "    return new_volume\n",
    "\n",
    "data['объём_двиг_л'] =  data['объём_двиг_л'].apply(cleaner_engine)"
   ]
  },
  {
   "cell_type": "code",
   "execution_count": 32,
   "id": "8b03169f",
   "metadata": {},
   "outputs": [
    {
     "name": "stdout",
     "output_type": "stream",
     "text": [
      "       объём_двиг_л\n",
      "count  30213.000000\n",
      "mean       2.265391\n",
      "std        0.937653\n",
      "min        1.200000\n",
      "25%        1.600000\n",
      "50%        2.000000\n",
      "75%        2.693000\n",
      "max       16.000000\n"
     ]
    }
   ],
   "source": [
    "# поскольку есть значения, которые были записаны как кубические сантиметры, а также в тысячных долях, исправим это\n",
    "\n",
    "data['объём_двиг_л'] = data['объём_двиг_л'].astype('float')\n",
    "\n",
    "def super_cleaner_engine(volume):\n",
    "    if volume > 1000:\n",
    "        return volume / 1000\n",
    "    elif volume < 0.1:\n",
    "        return volume * 1000\n",
    "    else:\n",
    "        return volume\n",
    "data['объём_двиг_л'] =  data['объём_двиг_л'].apply(super_cleaner_engine)\n",
    "\n",
    "print(data[(data['объём_двиг_л'] != 0)].describe())"
   ]
  },
  {
   "cell_type": "markdown",
   "id": "cbfc1849",
   "metadata": {},
   "source": [
    "### Регион"
   ]
  },
  {
   "cell_type": "code",
   "execution_count": 33,
   "id": "a8d73d88",
   "metadata": {},
   "outputs": [
    {
     "name": "stdout",
     "output_type": "stream",
     "text": [
      "['Алматы' 'Костанай' 'Атырау' 'Астана' 'Уральск' 'Усть-Каменогорск'\n",
      " 'Петропавловск' 'Павлодар' 'Кокшетау' 'Актау' 'Семей' 'Караганда'\n",
      " 'Актобе' 'Шымкент' 'Талдыкорган' 'Кызылорда' 'Экибастуз' 'Рудный' 'Тараз'\n",
      " 'Аксай' 'Щучинск' 'ЭКСПОРТ' 'Риддер']\n"
     ]
    }
   ],
   "source": [
    "print(data['регион'].unique())"
   ]
  },
  {
   "cell_type": "code",
   "execution_count": 34,
   "id": "1b72cc5c",
   "metadata": {},
   "outputs": [],
   "source": [
    "# Сделаем, чтобы первая буква названия региона была заглавной.\n",
    "data['регион'] = data['регион'].str.title()"
   ]
  },
  {
   "cell_type": "markdown",
   "id": "17c4c085",
   "metadata": {},
   "source": [
    "### Год выпуска"
   ]
  },
  {
   "cell_type": "code",
   "execution_count": 35,
   "id": "e49aecce",
   "metadata": {},
   "outputs": [
    {
     "data": {
      "text/plain": [
       "array(['2018', '2017', '2016', '2011', '2015', '2014', '2013', '2\\xa0018',\n",
       "       '2\\xa0017', '2\\xa0016'], dtype=object)"
      ]
     },
     "execution_count": 35,
     "metadata": {},
     "output_type": "execute_result"
    }
   ],
   "source": [
    "data['год_выпуска'].unique()"
   ]
  },
  {
   "cell_type": "code",
   "execution_count": 36,
   "id": "77fc3ca8",
   "metadata": {},
   "outputs": [],
   "source": [
    "# удалим спецсимволы\n",
    "data['год_выпуска'] = data['год_выпуска'].str.replace('\\xa0', '')"
   ]
  },
  {
   "cell_type": "markdown",
   "id": "27340a1b",
   "metadata": {},
   "source": [
    "### Тип трансмиссии"
   ]
  },
  {
   "cell_type": "code",
   "execution_count": 37,
   "id": "fc8f1840",
   "metadata": {},
   "outputs": [
    {
     "data": {
      "text/plain": [
       "array(['S-Тronic', 'S-Тroic', 'S-troic', 'S-tronic', 'Steptronic',\n",
       "       'ТipТronic', 'Tiptronic', 'SТepТronic', 'Автомат', 'AT', '6 АТ',\n",
       "       '5 МТ', '6AT', '5MT', '6АТ', '5МТ', 'MT', 'МТ', 'MТ', '6АT', '6MT',\n",
       "       'Powershift S6', 'PowershiftS6', 'PowershifТS6', '6МТ', '6MТ',\n",
       "       'Мех.', 'МКПП', '6 AT', '6 MT', '8АТ', '5AT', '5АТ', '7DCT',\n",
       "       '7 DCT', '7DCТ', 'АТ', 'CVT', 'N', 'CVT(вариатор)', 'CVТ', '6 МТ',\n",
       "       '4АТ', '8 АТ', '8AT', '4 АТ', 'AMT', '4AT', '9AT',\n",
       "       'CVT (вариатор)', 'CVT(вариATор)', 'CVТ(вариатор)', '9АТ', '12AT',\n",
       "       '7AT', '7АТ', '6М/Т', '6M/T', '6M/Т', '0', 'PDK', '8АКПП',\n",
       "       '8-ступ АКПП', 'АКПП8', '8', 'АКПП', ' -', '-', '7 DSG', '7DSG',\n",
       "       '6 DSG', '6DSG', 'CVТ(вАриАтор)', '5MТ', 'АТ (автомат)',\n",
       "       '8АТ4МoТion', '6A', '5M', '6-ступАКПП', '6А', 'AT (автомат)',\n",
       "       '7DSG4МoТion', '6Aвтомат', '6Aатомат', '5М', '5-ступМТ', 'АT',\n",
       "       'A/T', '7АT', 'МТ (механика)', 'Механическая'], dtype=object)"
      ]
     },
     "execution_count": 37,
     "metadata": {},
     "output_type": "execute_result"
    }
   ],
   "source": [
    "data['коробка_передач'].unique()"
   ]
  },
  {
   "cell_type": "code",
   "execution_count": 38,
   "id": "42141b4d",
   "metadata": {},
   "outputs": [
    {
     "data": {
      "text/plain": [
       "array(['АКПП', 'МКПП'], dtype=object)"
      ]
     },
     "execution_count": 38,
     "metadata": {},
     "output_type": "execute_result"
    }
   ],
   "source": [
    "# Создадим 2 категории МКПП и АКПП\n",
    "mechanical = ['5 МТ', '5MT', '5МТ', 'MT', 'МТ', 'MТ', '6MT', '6МТ', '6MТ',\n",
    "           'Мех.', 'МКПП', '6 MT', '6 МТ', 'N', '6М/Т', '6M/T', '6M/Т', '5MТ',\n",
    "           '5M', '5М', '5-ступМТ',  'МТ (механика)', 'Механическая', '0']\n",
    "\n",
    "\n",
    "def transmission_clean(value):\n",
    "    if value in mechanical:\n",
    "        return 'МКПП'\n",
    "    else:\n",
    "        return 'АКПП'\n",
    "    \n",
    "data['коробка_передач'] = data['коробка_передач'].apply(transmission_clean)\n",
    "data['коробка_передач'].unique()"
   ]
  },
  {
   "cell_type": "markdown",
   "id": "1004b68b",
   "metadata": {},
   "source": [
    "### Изменение типа данных"
   ]
  },
  {
   "cell_type": "code",
   "execution_count": 39,
   "id": "1266a980",
   "metadata": {},
   "outputs": [],
   "source": [
    "# столбцы с поавающей точкой\n",
    "float_list = ['цена_usd', 'продажа_usd']\n",
    "# столбцы с категориальными данными\n",
    "category_list = ['вид_топлива', 'коробка_передач', 'тип_привода', 'сегментация_2013', 'класс_2013']\n",
    "\n",
    "for column in data.columns:\n",
    "    \n",
    "    if column in float_list:\n",
    "        data[column] = data[column].astype('float')\n",
    "        \n",
    "    elif column in category_list:\n",
    "        data[column] = data[column].astype('category')\n",
    "\n",
    "    else: \n",
    "        data[column] = data[column]\n",
    "        \n",
    "# столбец количество приведём к целому числу      \n",
    "data['количество'] = pd.to_numeric(data['количество'], errors='coerce', downcast = 'integer')       "
   ]
  },
  {
   "cell_type": "code",
   "execution_count": 40,
   "id": "e69f8f40",
   "metadata": {},
   "outputs": [
    {
     "data": {
      "text/html": [
       "<div>\n",
       "<style scoped>\n",
       "    .dataframe tbody tr th:only-of-type {\n",
       "        vertical-align: middle;\n",
       "    }\n",
       "\n",
       "    .dataframe tbody tr th {\n",
       "        vertical-align: top;\n",
       "    }\n",
       "\n",
       "    .dataframe thead th {\n",
       "        text-align: right;\n",
       "    }\n",
       "</style>\n",
       "<table border=\"1\" class=\"dataframe\">\n",
       "  <thead>\n",
       "    <tr style=\"text-align: right;\">\n",
       "      <th></th>\n",
       "      <th>дата</th>\n",
       "      <th>компания</th>\n",
       "      <th>бренд</th>\n",
       "      <th>модель</th>\n",
       "      <th>год_выпуска</th>\n",
       "      <th>страна_производитель</th>\n",
       "      <th>вид_топлива</th>\n",
       "      <th>объём_двиг_л</th>\n",
       "      <th>коробка_передач</th>\n",
       "      <th>тип_привода</th>\n",
       "      <th>регион</th>\n",
       "      <th>количество</th>\n",
       "      <th>цена_usd</th>\n",
       "      <th>продажа_usd</th>\n",
       "      <th>область</th>\n",
       "      <th>сегментация_2013</th>\n",
       "      <th>класс_2013</th>\n",
       "    </tr>\n",
       "  </thead>\n",
       "  <tbody>\n",
       "    <tr>\n",
       "      <th>1</th>\n",
       "      <td>2019-05-01</td>\n",
       "      <td>Mercur Auto</td>\n",
       "      <td>Audi</td>\n",
       "      <td>A3</td>\n",
       "      <td>2018</td>\n",
       "      <td>DEU</td>\n",
       "      <td>F</td>\n",
       "      <td>1.4</td>\n",
       "      <td>АКПП</td>\n",
       "      <td>FWD</td>\n",
       "      <td>Алматы</td>\n",
       "      <td>1</td>\n",
       "      <td>30581.000000</td>\n",
       "      <td>30581.000000</td>\n",
       "      <td>г.Алматы</td>\n",
       "      <td>Легковые автомобили</td>\n",
       "      <td>C класс</td>\n",
       "    </tr>\n",
       "    <tr>\n",
       "      <th>2</th>\n",
       "      <td>2019-06-01</td>\n",
       "      <td>Mercur Auto</td>\n",
       "      <td>Audi</td>\n",
       "      <td>A3</td>\n",
       "      <td>2018</td>\n",
       "      <td>DEU</td>\n",
       "      <td>F</td>\n",
       "      <td>1.4</td>\n",
       "      <td>АКПП</td>\n",
       "      <td>FWD</td>\n",
       "      <td>Алматы</td>\n",
       "      <td>1</td>\n",
       "      <td>35087.719000</td>\n",
       "      <td>35087.719000</td>\n",
       "      <td>г.Алматы</td>\n",
       "      <td>Легковые автомобили</td>\n",
       "      <td>C класс</td>\n",
       "    </tr>\n",
       "    <tr>\n",
       "      <th>3</th>\n",
       "      <td>2019-07-01</td>\n",
       "      <td>Mercur Auto</td>\n",
       "      <td>Audi</td>\n",
       "      <td>A3</td>\n",
       "      <td>2017</td>\n",
       "      <td>DEU</td>\n",
       "      <td>F</td>\n",
       "      <td>1.4</td>\n",
       "      <td>АКПП</td>\n",
       "      <td>FWD</td>\n",
       "      <td>Алматы</td>\n",
       "      <td>1</td>\n",
       "      <td>26608.232900</td>\n",
       "      <td>26608.232900</td>\n",
       "      <td>г.Алматы</td>\n",
       "      <td>Легковые автомобили</td>\n",
       "      <td>C класс</td>\n",
       "    </tr>\n",
       "    <tr>\n",
       "      <th>4</th>\n",
       "      <td>2019-07-01</td>\n",
       "      <td>Mercur Auto</td>\n",
       "      <td>Audi</td>\n",
       "      <td>A4</td>\n",
       "      <td>2017</td>\n",
       "      <td>DEU</td>\n",
       "      <td>F</td>\n",
       "      <td>2.0</td>\n",
       "      <td>АКПП</td>\n",
       "      <td>4WD</td>\n",
       "      <td>Алматы</td>\n",
       "      <td>1</td>\n",
       "      <td>48343.982648</td>\n",
       "      <td>48343.982648</td>\n",
       "      <td>г.Алматы</td>\n",
       "      <td>Легковые автомобили</td>\n",
       "      <td>D класс</td>\n",
       "    </tr>\n",
       "    <tr>\n",
       "      <th>5</th>\n",
       "      <td>2019-06-01</td>\n",
       "      <td>Mercur Auto</td>\n",
       "      <td>Audi</td>\n",
       "      <td>A5</td>\n",
       "      <td>2017</td>\n",
       "      <td>DEU</td>\n",
       "      <td>F</td>\n",
       "      <td>2.0</td>\n",
       "      <td>АКПП</td>\n",
       "      <td>4WD</td>\n",
       "      <td>Алматы</td>\n",
       "      <td>1</td>\n",
       "      <td>52760.736196</td>\n",
       "      <td>52760.736196</td>\n",
       "      <td>г.Алматы</td>\n",
       "      <td>Легковые автомобили</td>\n",
       "      <td>Спортивные автомобили</td>\n",
       "    </tr>\n",
       "  </tbody>\n",
       "</table>\n",
       "</div>"
      ],
      "text/plain": [
       "        дата     компания бренд модель год_выпуска страна_производитель  \\\n",
       "1 2019-05-01  Mercur Auto  Audi     A3        2018                  DEU   \n",
       "2 2019-06-01  Mercur Auto  Audi     A3        2018                  DEU   \n",
       "3 2019-07-01  Mercur Auto  Audi     A3        2017                  DEU   \n",
       "4 2019-07-01  Mercur Auto  Audi     A4        2017                  DEU   \n",
       "5 2019-06-01  Mercur Auto  Audi     A5        2017                  DEU   \n",
       "\n",
       "  вид_топлива  объём_двиг_л коробка_передач тип_привода  регион  количество  \\\n",
       "1           F           1.4            АКПП         FWD  Алматы           1   \n",
       "2           F           1.4            АКПП         FWD  Алматы           1   \n",
       "3           F           1.4            АКПП         FWD  Алматы           1   \n",
       "4           F           2.0            АКПП         4WD  Алматы           1   \n",
       "5           F           2.0            АКПП         4WD  Алматы           1   \n",
       "\n",
       "       цена_usd   продажа_usd   область      сегментация_2013  \\\n",
       "1  30581.000000  30581.000000  г.Алматы  Легковые автомобили    \n",
       "2  35087.719000  35087.719000  г.Алматы  Легковые автомобили    \n",
       "3  26608.232900  26608.232900  г.Алматы  Легковые автомобили    \n",
       "4  48343.982648  48343.982648  г.Алматы  Легковые автомобили    \n",
       "5  52760.736196  52760.736196  г.Алматы  Легковые автомобили    \n",
       "\n",
       "               класс_2013  \n",
       "1                C класс   \n",
       "2                C класс   \n",
       "3                C класс   \n",
       "4                D класс   \n",
       "5  Спортивные автомобили   "
      ]
     },
     "execution_count": 40,
     "metadata": {},
     "output_type": "execute_result"
    }
   ],
   "source": [
    "data.head()"
   ]
  },
  {
   "cell_type": "markdown",
   "id": "435dc9a5",
   "metadata": {},
   "source": [
    "## Исследовательский анализ"
   ]
  },
  {
   "cell_type": "markdown",
   "id": "0dfc2262",
   "metadata": {},
   "source": [
    "### Топ-10 марок на рныке Казахстана в денежном и натуральном выражении"
   ]
  },
  {
   "cell_type": "code",
   "execution_count": 41,
   "id": "54167ed3",
   "metadata": {},
   "outputs": [],
   "source": [
    "# создадим таблицу сгруппированную по маркам и посчитаем количество проданных автомобилей и сумму продаж\n",
    "marks_top = (data.groupby('бренд')[['количество', 'продажа_usd']]\n",
    "            .agg('sum')\n",
    "            .reset_index()\n",
    "           )"
   ]
  },
  {
   "cell_type": "code",
   "execution_count": 42,
   "id": "afbeedda",
   "metadata": {},
   "outputs": [],
   "source": [
    "# сделаем, чтобы числа выводились с разделителями разрядов и не в научном формате\n",
    "pd.options.display.float_format = '{:,.0f}'.format"
   ]
  },
  {
   "cell_type": "code",
   "execution_count": 43,
   "id": "734d7d86",
   "metadata": {},
   "outputs": [],
   "source": [
    "# лидеры рейтинга будут отличаться по количеству и выручке, потому построим 2 графика и выведем таблицы\n",
    "def top_10_chart(table, brand, amount, sales):\n",
    "    \n",
    "    plt.figure(figsize=(14, 5))\n",
    "\n",
    "    ax1 = plt.subplot(1, 2, 1)\n",
    "    \n",
    "    amount_top = table.sort_values(by=amount, ascending=False).head(10)\n",
    "    sns.barplot(data=amount_top, x=amount, y=brand)\n",
    "    plt.title('Топ 10 марок в натуральном выражении')\n",
    "    plt.xlabel('Количество проданных автомобилей')\n",
    "    plt.ylabel('Бренд')\n",
    "\n",
    "    ax2 = plt.subplot(1, 2, 2)\n",
    "\n",
    "    sales_top = table.sort_values(by=sales, ascending=False).head(10)\n",
    "    sns.barplot(data=table.sort_values(by=sales, ascending=False).head(10), x=sales, y=brand)\n",
    "    plt.title('Топ 10 марок в денежном выражении')\n",
    "    plt.xlabel('Объем продаж $')\n",
    "    plt.ylabel('')\n",
    "    \n",
    "    display(amount_top, sales_top)\n",
    "    \n",
    "    plt.show()"
   ]
  },
  {
   "cell_type": "code",
   "execution_count": 44,
   "id": "7a50a6bf",
   "metadata": {},
   "outputs": [
    {
     "data": {
      "text/html": [
       "<div>\n",
       "<style scoped>\n",
       "    .dataframe tbody tr th:only-of-type {\n",
       "        vertical-align: middle;\n",
       "    }\n",
       "\n",
       "    .dataframe tbody tr th {\n",
       "        vertical-align: top;\n",
       "    }\n",
       "\n",
       "    .dataframe thead th {\n",
       "        text-align: right;\n",
       "    }\n",
       "</style>\n",
       "<table border=\"1\" class=\"dataframe\">\n",
       "  <thead>\n",
       "    <tr style=\"text-align: right;\">\n",
       "      <th></th>\n",
       "      <th>бренд</th>\n",
       "      <th>количество</th>\n",
       "      <th>продажа_usd</th>\n",
       "    </tr>\n",
       "  </thead>\n",
       "  <tbody>\n",
       "    <tr>\n",
       "      <th>16</th>\n",
       "      <td>Lada</td>\n",
       "      <td>9,638</td>\n",
       "      <td>93,870,615</td>\n",
       "    </tr>\n",
       "    <tr>\n",
       "      <th>36</th>\n",
       "      <td>Toyota</td>\n",
       "      <td>9,374</td>\n",
       "      <td>383,875,171</td>\n",
       "    </tr>\n",
       "    <tr>\n",
       "      <th>9</th>\n",
       "      <td>Hyundai</td>\n",
       "      <td>5,703</td>\n",
       "      <td>124,847,199</td>\n",
       "    </tr>\n",
       "    <tr>\n",
       "      <th>7</th>\n",
       "      <td>GAZ</td>\n",
       "      <td>2,111</td>\n",
       "      <td>40,420,595</td>\n",
       "    </tr>\n",
       "    <tr>\n",
       "      <th>15</th>\n",
       "      <td>Kia</td>\n",
       "      <td>1,815</td>\n",
       "      <td>36,750,900</td>\n",
       "    </tr>\n",
       "    <tr>\n",
       "      <th>28</th>\n",
       "      <td>Ravon</td>\n",
       "      <td>1,727</td>\n",
       "      <td>17,149,090</td>\n",
       "    </tr>\n",
       "    <tr>\n",
       "      <th>25</th>\n",
       "      <td>Nissan</td>\n",
       "      <td>1,648</td>\n",
       "      <td>36,988,183</td>\n",
       "    </tr>\n",
       "    <tr>\n",
       "      <th>37</th>\n",
       "      <td>UAZ</td>\n",
       "      <td>1,063</td>\n",
       "      <td>15,807,653</td>\n",
       "    </tr>\n",
       "    <tr>\n",
       "      <th>18</th>\n",
       "      <td>Lexus</td>\n",
       "      <td>1,051</td>\n",
       "      <td>83,284,987</td>\n",
       "    </tr>\n",
       "    <tr>\n",
       "      <th>14</th>\n",
       "      <td>Jac</td>\n",
       "      <td>985</td>\n",
       "      <td>13,683,222</td>\n",
       "    </tr>\n",
       "  </tbody>\n",
       "</table>\n",
       "</div>"
      ],
      "text/plain": [
       "      бренд  количество  продажа_usd\n",
       "16     Lada       9,638   93,870,615\n",
       "36   Toyota       9,374  383,875,171\n",
       "9   Hyundai       5,703  124,847,199\n",
       "7       GAZ       2,111   40,420,595\n",
       "15      Kia       1,815   36,750,900\n",
       "28    Ravon       1,727   17,149,090\n",
       "25   Nissan       1,648   36,988,183\n",
       "37      UAZ       1,063   15,807,653\n",
       "18    Lexus       1,051   83,284,987\n",
       "14      Jac         985   13,683,222"
      ]
     },
     "metadata": {},
     "output_type": "display_data"
    },
    {
     "data": {
      "text/html": [
       "<div>\n",
       "<style scoped>\n",
       "    .dataframe tbody tr th:only-of-type {\n",
       "        vertical-align: middle;\n",
       "    }\n",
       "\n",
       "    .dataframe tbody tr th {\n",
       "        vertical-align: top;\n",
       "    }\n",
       "\n",
       "    .dataframe thead th {\n",
       "        text-align: right;\n",
       "    }\n",
       "</style>\n",
       "<table border=\"1\" class=\"dataframe\">\n",
       "  <thead>\n",
       "    <tr style=\"text-align: right;\">\n",
       "      <th></th>\n",
       "      <th>бренд</th>\n",
       "      <th>количество</th>\n",
       "      <th>продажа_usd</th>\n",
       "    </tr>\n",
       "  </thead>\n",
       "  <tbody>\n",
       "    <tr>\n",
       "      <th>36</th>\n",
       "      <td>Toyota</td>\n",
       "      <td>9,374</td>\n",
       "      <td>383,875,171</td>\n",
       "    </tr>\n",
       "    <tr>\n",
       "      <th>9</th>\n",
       "      <td>Hyundai</td>\n",
       "      <td>5,703</td>\n",
       "      <td>124,847,199</td>\n",
       "    </tr>\n",
       "    <tr>\n",
       "      <th>16</th>\n",
       "      <td>Lada</td>\n",
       "      <td>9,638</td>\n",
       "      <td>93,870,615</td>\n",
       "    </tr>\n",
       "    <tr>\n",
       "      <th>18</th>\n",
       "      <td>Lexus</td>\n",
       "      <td>1,051</td>\n",
       "      <td>83,284,987</td>\n",
       "    </tr>\n",
       "    <tr>\n",
       "      <th>7</th>\n",
       "      <td>GAZ</td>\n",
       "      <td>2,111</td>\n",
       "      <td>40,420,595</td>\n",
       "    </tr>\n",
       "    <tr>\n",
       "      <th>25</th>\n",
       "      <td>Nissan</td>\n",
       "      <td>1,648</td>\n",
       "      <td>36,988,183</td>\n",
       "    </tr>\n",
       "    <tr>\n",
       "      <th>15</th>\n",
       "      <td>Kia</td>\n",
       "      <td>1,815</td>\n",
       "      <td>36,750,900</td>\n",
       "    </tr>\n",
       "    <tr>\n",
       "      <th>2</th>\n",
       "      <td>BMW</td>\n",
       "      <td>373</td>\n",
       "      <td>23,313,095</td>\n",
       "    </tr>\n",
       "    <tr>\n",
       "      <th>34</th>\n",
       "      <td>Subaru</td>\n",
       "      <td>520</td>\n",
       "      <td>17,311,553</td>\n",
       "    </tr>\n",
       "    <tr>\n",
       "      <th>28</th>\n",
       "      <td>Ravon</td>\n",
       "      <td>1,727</td>\n",
       "      <td>17,149,090</td>\n",
       "    </tr>\n",
       "  </tbody>\n",
       "</table>\n",
       "</div>"
      ],
      "text/plain": [
       "      бренд  количество  продажа_usd\n",
       "36   Toyota       9,374  383,875,171\n",
       "9   Hyundai       5,703  124,847,199\n",
       "16     Lada       9,638   93,870,615\n",
       "18    Lexus       1,051   83,284,987\n",
       "7       GAZ       2,111   40,420,595\n",
       "25   Nissan       1,648   36,988,183\n",
       "15      Kia       1,815   36,750,900\n",
       "2       BMW         373   23,313,095\n",
       "34   Subaru         520   17,311,553\n",
       "28    Ravon       1,727   17,149,090"
      ]
     },
     "metadata": {},
     "output_type": "display_data"
    },
    {
     "data": {
      "image/png": "[encoded data removed]",
      "text/plain": [
       "<Figure size 1400x500 with 2 Axes>"
      ]
     },
     "metadata": {},
     "output_type": "display_data"
    }
   ],
   "source": [
    "top_10_chart(marks_top, 'бренд', 'количество', 'продажа_usd')"
   ]
  },
  {
   "cell_type": "markdown",
   "id": "216ef3d9",
   "metadata": {},
   "source": [
    "Явно лидируют 3 производителя: Lada, Toyota и Hyundai. Однако из-за более низких цен на автомобили в денежном выражении Lada спускается на 3-ю строчку. В этом смысле сильно от рынка отрывается Toyota."
   ]
  },
  {
   "cell_type": "markdown",
   "id": "9596b993",
   "metadata": {},
   "source": [
    "### Динамика продаж по рынку в целом"
   ]
  },
  {
   "cell_type": "code",
   "execution_count": 45,
   "id": "fcba29dd",
   "metadata": {},
   "outputs": [
    {
     "data": {
      "text/html": [
       "<div>\n",
       "<style scoped>\n",
       "    .dataframe tbody tr th:only-of-type {\n",
       "        vertical-align: middle;\n",
       "    }\n",
       "\n",
       "    .dataframe tbody tr th {\n",
       "        vertical-align: top;\n",
       "    }\n",
       "\n",
       "    .dataframe thead th {\n",
       "        text-align: right;\n",
       "    }\n",
       "</style>\n",
       "<table border=\"1\" class=\"dataframe\">\n",
       "  <thead>\n",
       "    <tr style=\"text-align: right;\">\n",
       "      <th></th>\n",
       "      <th>дата</th>\n",
       "      <th>количество</th>\n",
       "      <th>продажа_usd</th>\n",
       "    </tr>\n",
       "  </thead>\n",
       "  <tbody>\n",
       "    <tr>\n",
       "      <th>0</th>\n",
       "      <td>2019-01-01</td>\n",
       "      <td>3,112</td>\n",
       "      <td>74,653,682</td>\n",
       "    </tr>\n",
       "    <tr>\n",
       "      <th>1</th>\n",
       "      <td>2019-02-01</td>\n",
       "      <td>3,898</td>\n",
       "      <td>93,747,224</td>\n",
       "    </tr>\n",
       "    <tr>\n",
       "      <th>2</th>\n",
       "      <td>2019-03-01</td>\n",
       "      <td>4,025</td>\n",
       "      <td>91,044,898</td>\n",
       "    </tr>\n",
       "    <tr>\n",
       "      <th>3</th>\n",
       "      <td>2019-04-01</td>\n",
       "      <td>4,324</td>\n",
       "      <td>104,699,289</td>\n",
       "    </tr>\n",
       "    <tr>\n",
       "      <th>4</th>\n",
       "      <td>2019-05-01</td>\n",
       "      <td>4,934</td>\n",
       "      <td>130,545,435</td>\n",
       "    </tr>\n",
       "    <tr>\n",
       "      <th>5</th>\n",
       "      <td>2019-06-01</td>\n",
       "      <td>5,284</td>\n",
       "      <td>140,623,114</td>\n",
       "    </tr>\n",
       "    <tr>\n",
       "      <th>6</th>\n",
       "      <td>2019-07-01</td>\n",
       "      <td>4,811</td>\n",
       "      <td>128,991,624</td>\n",
       "    </tr>\n",
       "    <tr>\n",
       "      <th>7</th>\n",
       "      <td>2019-08-01</td>\n",
       "      <td>5,216</td>\n",
       "      <td>132,327,292</td>\n",
       "    </tr>\n",
       "    <tr>\n",
       "      <th>8</th>\n",
       "      <td>2019-09-01</td>\n",
       "      <td>5,134</td>\n",
       "      <td>129,324,519</td>\n",
       "    </tr>\n",
       "  </tbody>\n",
       "</table>\n",
       "</div>"
      ],
      "text/plain": [
       "        дата  количество  продажа_usd\n",
       "0 2019-01-01       3,112   74,653,682\n",
       "1 2019-02-01       3,898   93,747,224\n",
       "2 2019-03-01       4,025   91,044,898\n",
       "3 2019-04-01       4,324  104,699,289\n",
       "4 2019-05-01       4,934  130,545,435\n",
       "5 2019-06-01       5,284  140,623,114\n",
       "6 2019-07-01       4,811  128,991,624\n",
       "7 2019-08-01       5,216  132,327,292\n",
       "8 2019-09-01       5,134  129,324,519"
      ]
     },
     "execution_count": 45,
     "metadata": {},
     "output_type": "execute_result"
    }
   ],
   "source": [
    "sales_dynamics = (data.groupby('дата')[['количество', 'продажа_usd']]\n",
    "                .agg('sum')\n",
    "                .reset_index()\n",
    "               )\n",
    "sales_dynamics"
   ]
  },
  {
   "cell_type": "code",
   "execution_count": 46,
   "id": "60808f3b",
   "metadata": {},
   "outputs": [],
   "source": [
    "def dynamics_chart(table, date, amount, sales):\n",
    "    \n",
    "    plt.figure(figsize=(14, 5))\n",
    "\n",
    "    ax1 = plt.subplot(1, 2, 1)\n",
    "    \n",
    "    sns.lineplot(data=table, x=date, y=amount, marker='s')\n",
    "    plt.title('Количество проданных машин по месяцам')\n",
    "    plt.xlabel('Дата')\n",
    "    plt.ylabel('Количество автомобилей')\n",
    "    plt.xticks(rotation=45)\n",
    "    plt.grid (True)\n",
    "\n",
    "\n",
    "    ax2 = plt.subplot(1, 2, 2)\n",
    "    \n",
    "    sns.lineplot(data=table, x=date, y=sales, marker='s')\n",
    "    plt.title('Динамика продаж по месяцам')\n",
    "    plt.xlabel('Дата')\n",
    "    plt.ylabel('Обем продаж $')\n",
    "    plt.xticks(rotation=45)\n",
    "    plt.grid (True)"
   ]
  },
  {
   "cell_type": "code",
   "execution_count": 47,
   "id": "b596b950",
   "metadata": {},
   "outputs": [
    {
     "data": {
      "image/png": "[encoded data removed]",
      "text/plain": [
       "<Figure size 1400x500 with 2 Axes>"
      ]
     },
     "metadata": {},
     "output_type": "display_data"
    }
   ],
   "source": [
    "dynamics_chart(sales_dynamics, 'дата', 'количество', 'продажа_usd')"
   ]
  },
  {
   "cell_type": "markdown",
   "id": "eb9c1700",
   "metadata": {},
   "source": [
    "За 9 месяцев рынок значительно вырос (продажи в сетнябре на 73 процента выше, чем в январе), наибольший пик продаж пришел на май."
   ]
  },
  {
   "cell_type": "markdown",
   "id": "548cac54",
   "metadata": {},
   "source": [
    "### Динамика продаж по категориям"
   ]
  },
  {
   "cell_type": "markdown",
   "id": "b6cee193",
   "metadata": {},
   "source": [
    "#### Продажи по типу топлива"
   ]
  },
  {
   "cell_type": "code",
   "execution_count": 48,
   "id": "69240f1b",
   "metadata": {
    "scrolled": false
   },
   "outputs": [
    {
     "data": {
      "text/html": [
       "<div>\n",
       "<style scoped>\n",
       "    .dataframe tbody tr th:only-of-type {\n",
       "        vertical-align: middle;\n",
       "    }\n",
       "\n",
       "    .dataframe tbody tr th {\n",
       "        vertical-align: top;\n",
       "    }\n",
       "\n",
       "    .dataframe thead th {\n",
       "        text-align: right;\n",
       "    }\n",
       "</style>\n",
       "<table border=\"1\" class=\"dataframe\">\n",
       "  <thead>\n",
       "    <tr style=\"text-align: right;\">\n",
       "      <th>вид_топлива</th>\n",
       "      <th>D</th>\n",
       "      <th>E</th>\n",
       "      <th>F</th>\n",
       "      <th>G</th>\n",
       "      <th>HYB</th>\n",
       "    </tr>\n",
       "    <tr>\n",
       "      <th>дата</th>\n",
       "      <th></th>\n",
       "      <th></th>\n",
       "      <th></th>\n",
       "      <th></th>\n",
       "      <th></th>\n",
       "    </tr>\n",
       "  </thead>\n",
       "  <tbody>\n",
       "    <tr>\n",
       "      <th>2019-01-01</th>\n",
       "      <td>3,742,428</td>\n",
       "      <td>0</td>\n",
       "      <td>70,846,054</td>\n",
       "      <td>0</td>\n",
       "      <td>65,201</td>\n",
       "    </tr>\n",
       "    <tr>\n",
       "      <th>2019-02-01</th>\n",
       "      <td>4,141,040</td>\n",
       "      <td>0</td>\n",
       "      <td>89,493,556</td>\n",
       "      <td>0</td>\n",
       "      <td>112,628</td>\n",
       "    </tr>\n",
       "    <tr>\n",
       "      <th>2019-03-01</th>\n",
       "      <td>3,820,875</td>\n",
       "      <td>0</td>\n",
       "      <td>87,224,023</td>\n",
       "      <td>0</td>\n",
       "      <td>0</td>\n",
       "    </tr>\n",
       "    <tr>\n",
       "      <th>2019-04-01</th>\n",
       "      <td>4,551,554</td>\n",
       "      <td>0</td>\n",
       "      <td>99,933,310</td>\n",
       "      <td>0</td>\n",
       "      <td>214,426</td>\n",
       "    </tr>\n",
       "    <tr>\n",
       "      <th>2019-05-01</th>\n",
       "      <td>5,460,547</td>\n",
       "      <td>0</td>\n",
       "      <td>125,019,883</td>\n",
       "      <td>0</td>\n",
       "      <td>65,005</td>\n",
       "    </tr>\n",
       "    <tr>\n",
       "      <th>2019-06-01</th>\n",
       "      <td>3,577,495</td>\n",
       "      <td>47,132</td>\n",
       "      <td>136,317,856</td>\n",
       "      <td>0</td>\n",
       "      <td>680,632</td>\n",
       "    </tr>\n",
       "    <tr>\n",
       "      <th>2019-07-01</th>\n",
       "      <td>6,165,185</td>\n",
       "      <td>0</td>\n",
       "      <td>116,866,453</td>\n",
       "      <td>5,413,492</td>\n",
       "      <td>546,495</td>\n",
       "    </tr>\n",
       "    <tr>\n",
       "      <th>2019-08-01</th>\n",
       "      <td>7,434,481</td>\n",
       "      <td>0</td>\n",
       "      <td>124,716,987</td>\n",
       "      <td>0</td>\n",
       "      <td>175,824</td>\n",
       "    </tr>\n",
       "    <tr>\n",
       "      <th>2019-09-01</th>\n",
       "      <td>4,530,380</td>\n",
       "      <td>0</td>\n",
       "      <td>124,580,138</td>\n",
       "      <td>0</td>\n",
       "      <td>214,001</td>\n",
       "    </tr>\n",
       "  </tbody>\n",
       "</table>\n",
       "</div>"
      ],
      "text/plain": [
       "вид_топлива         D      E           F         G     HYB\n",
       "дата                                                      \n",
       "2019-01-01  3,742,428      0  70,846,054         0  65,201\n",
       "2019-02-01  4,141,040      0  89,493,556         0 112,628\n",
       "2019-03-01  3,820,875      0  87,224,023         0       0\n",
       "2019-04-01  4,551,554      0  99,933,310         0 214,426\n",
       "2019-05-01  5,460,547      0 125,019,883         0  65,005\n",
       "2019-06-01  3,577,495 47,132 136,317,856         0 680,632\n",
       "2019-07-01  6,165,185      0 116,866,453 5,413,492 546,495\n",
       "2019-08-01  7,434,481      0 124,716,987         0 175,824\n",
       "2019-09-01  4,530,380      0 124,580,138         0 214,001"
      ]
     },
     "execution_count": 48,
     "metadata": {},
     "output_type": "execute_result"
    }
   ],
   "source": [
    "fuel_dynamics = pd.pivot_table(data, index='дата', columns='вид_топлива', values='продажа_usd', aggfunc='sum')\n",
    "fuel_dynamics"
   ]
  },
  {
   "cell_type": "code",
   "execution_count": 49,
   "id": "aacd6e1e",
   "metadata": {
    "scrolled": false
   },
   "outputs": [
    {
     "data": {
      "image/png": "[encoded data removed]",
      "text/plain": [
       "<Figure size 640x480 with 1 Axes>"
      ]
     },
     "metadata": {},
     "output_type": "display_data"
    }
   ],
   "source": [
    "fuel_dynamics.plot(marker='s')\n",
    "plt.title('Динамика продаж автомобилей в разрезе типа топлива')\n",
    "plt.ylabel('Объем продаж $')\n",
    "plt.grid (True)\n",
    "plt.show()"
   ]
  },
  {
   "cell_type": "code",
   "execution_count": 50,
   "id": "b5f9526b",
   "metadata": {},
   "outputs": [
    {
     "data": {
      "text/html": [
       "<div>\n",
       "<style scoped>\n",
       "    .dataframe tbody tr th:only-of-type {\n",
       "        vertical-align: middle;\n",
       "    }\n",
       "\n",
       "    .dataframe tbody tr th {\n",
       "        vertical-align: top;\n",
       "    }\n",
       "\n",
       "    .dataframe thead th {\n",
       "        text-align: right;\n",
       "    }\n",
       "</style>\n",
       "<table border=\"1\" class=\"dataframe\">\n",
       "  <thead>\n",
       "    <tr style=\"text-align: right;\">\n",
       "      <th></th>\n",
       "      <th>дата</th>\n",
       "      <th>компания</th>\n",
       "      <th>бренд</th>\n",
       "      <th>модель</th>\n",
       "      <th>год_выпуска</th>\n",
       "      <th>страна_производитель</th>\n",
       "      <th>вид_топлива</th>\n",
       "      <th>объём_двиг_л</th>\n",
       "      <th>коробка_передач</th>\n",
       "      <th>тип_привода</th>\n",
       "      <th>регион</th>\n",
       "      <th>количество</th>\n",
       "      <th>цена_usd</th>\n",
       "      <th>продажа_usd</th>\n",
       "      <th>область</th>\n",
       "      <th>сегментация_2013</th>\n",
       "      <th>класс_2013</th>\n",
       "    </tr>\n",
       "  </thead>\n",
       "  <tbody>\n",
       "    <tr>\n",
       "      <th>174</th>\n",
       "      <td>2019-06-01</td>\n",
       "      <td>Автоцентр-Бавария</td>\n",
       "      <td>BMW</td>\n",
       "      <td>i3</td>\n",
       "      <td>2018</td>\n",
       "      <td>DEU</td>\n",
       "      <td>E</td>\n",
       "      <td>0</td>\n",
       "      <td>АКПП</td>\n",
       "      <td>RWD</td>\n",
       "      <td>Алматы</td>\n",
       "      <td>1</td>\n",
       "      <td>47,132</td>\n",
       "      <td>47,132</td>\n",
       "      <td>г.Алматы</td>\n",
       "      <td>Легковые автомобили</td>\n",
       "      <td>B класс</td>\n",
       "    </tr>\n",
       "  </tbody>\n",
       "</table>\n",
       "</div>"
      ],
      "text/plain": [
       "          дата           компания бренд модель год_выпуска  \\\n",
       "174 2019-06-01  Автоцентр-Бавария   BMW     i3        2018   \n",
       "\n",
       "    страна_производитель вид_топлива  объём_двиг_л коробка_передач  \\\n",
       "174                  DEU           E             0            АКПП   \n",
       "\n",
       "    тип_привода  регион  количество  цена_usd  продажа_usd   область  \\\n",
       "174         RWD  Алматы           1    47,132       47,132  г.Алматы   \n",
       "\n",
       "         сегментация_2013 класс_2013  \n",
       "174  Легковые автомобили    B класс   "
      ]
     },
     "execution_count": 50,
     "metadata": {},
     "output_type": "execute_result"
    }
   ],
   "source": [
    "ecar = data[data['вид_топлива'] == 'E']\n",
    "ecar"
   ]
  },
  {
   "cell_type": "code",
   "execution_count": 51,
   "id": "190d9897",
   "metadata": {},
   "outputs": [
    {
     "data": {
      "text/html": [
       "<div>\n",
       "<style scoped>\n",
       "    .dataframe tbody tr th:only-of-type {\n",
       "        vertical-align: middle;\n",
       "    }\n",
       "\n",
       "    .dataframe tbody tr th {\n",
       "        vertical-align: top;\n",
       "    }\n",
       "\n",
       "    .dataframe thead th {\n",
       "        text-align: right;\n",
       "    }\n",
       "</style>\n",
       "<table border=\"1\" class=\"dataframe\">\n",
       "  <thead>\n",
       "    <tr style=\"text-align: right;\">\n",
       "      <th></th>\n",
       "      <th>дата</th>\n",
       "      <th>компания</th>\n",
       "      <th>бренд</th>\n",
       "      <th>модель</th>\n",
       "      <th>год_выпуска</th>\n",
       "      <th>страна_производитель</th>\n",
       "      <th>вид_топлива</th>\n",
       "      <th>объём_двиг_л</th>\n",
       "      <th>коробка_передач</th>\n",
       "      <th>тип_привода</th>\n",
       "      <th>регион</th>\n",
       "      <th>количество</th>\n",
       "      <th>цена_usd</th>\n",
       "      <th>продажа_usd</th>\n",
       "      <th>область</th>\n",
       "      <th>сегментация_2013</th>\n",
       "      <th>класс_2013</th>\n",
       "    </tr>\n",
       "  </thead>\n",
       "  <tbody>\n",
       "    <tr>\n",
       "      <th>32730</th>\n",
       "      <td>2019-07-01</td>\n",
       "      <td>Allur Auto</td>\n",
       "      <td>ANKAI</td>\n",
       "      <td>HFF6850HGQ4</td>\n",
       "      <td>2018</td>\n",
       "      <td>KAZ</td>\n",
       "      <td>G</td>\n",
       "      <td>5</td>\n",
       "      <td>МКПП</td>\n",
       "      <td>2WD</td>\n",
       "      <td>Астана</td>\n",
       "      <td>1</td>\n",
       "      <td>77,336</td>\n",
       "      <td>77,336</td>\n",
       "      <td>г.Астана</td>\n",
       "      <td>Коммерческие автомобили</td>\n",
       "      <td>Большие автобусы</td>\n",
       "    </tr>\n",
       "    <tr>\n",
       "      <th>32731</th>\n",
       "      <td>2019-07-01</td>\n",
       "      <td>Allur Auto</td>\n",
       "      <td>ANKAI</td>\n",
       "      <td>HFF6850HGQ4</td>\n",
       "      <td>2018</td>\n",
       "      <td>KAZ</td>\n",
       "      <td>G</td>\n",
       "      <td>5</td>\n",
       "      <td>МКПП</td>\n",
       "      <td>2WD</td>\n",
       "      <td>Астана</td>\n",
       "      <td>1</td>\n",
       "      <td>77,336</td>\n",
       "      <td>77,336</td>\n",
       "      <td>г.Астана</td>\n",
       "      <td>Коммерческие автомобили</td>\n",
       "      <td>Большие автобусы</td>\n",
       "    </tr>\n",
       "    <tr>\n",
       "      <th>32732</th>\n",
       "      <td>2019-07-01</td>\n",
       "      <td>Allur Auto</td>\n",
       "      <td>ANKAI</td>\n",
       "      <td>HFF6850HGQ4</td>\n",
       "      <td>2018</td>\n",
       "      <td>KAZ</td>\n",
       "      <td>G</td>\n",
       "      <td>5</td>\n",
       "      <td>МКПП</td>\n",
       "      <td>2WD</td>\n",
       "      <td>Астана</td>\n",
       "      <td>1</td>\n",
       "      <td>77,336</td>\n",
       "      <td>77,336</td>\n",
       "      <td>г.Астана</td>\n",
       "      <td>Коммерческие автомобили</td>\n",
       "      <td>Большие автобусы</td>\n",
       "    </tr>\n",
       "  </tbody>\n",
       "</table>\n",
       "</div>"
      ],
      "text/plain": [
       "            дата    компания  бренд       модель год_выпуска  \\\n",
       "32730 2019-07-01  Allur Auto  ANKAI  HFF6850HGQ4        2018   \n",
       "32731 2019-07-01  Allur Auto  ANKAI  HFF6850HGQ4        2018   \n",
       "32732 2019-07-01  Allur Auto  ANKAI  HFF6850HGQ4        2018   \n",
       "\n",
       "      страна_производитель вид_топлива  объём_двиг_л коробка_передач  \\\n",
       "32730                  KAZ           G             5            МКПП   \n",
       "32731                  KAZ           G             5            МКПП   \n",
       "32732                  KAZ           G             5            МКПП   \n",
       "\n",
       "      тип_привода  регион  количество  цена_usd  продажа_usd   область  \\\n",
       "32730         2WD  Астана           1    77,336       77,336  г.Астана   \n",
       "32731         2WD  Астана           1    77,336       77,336  г.Астана   \n",
       "32732         2WD  Астана           1    77,336       77,336  г.Астана   \n",
       "\n",
       "               сегментация_2013         класс_2013  \n",
       "32730  Коммерческие автомобили   Большие автобусы   \n",
       "32731  Коммерческие автомобили   Большие автобусы   \n",
       "32732  Коммерческие автомобили   Большие автобусы   "
      ]
     },
     "execution_count": 51,
     "metadata": {},
     "output_type": "execute_result"
    }
   ],
   "source": [
    "gcar = data[data['вид_топлива'] == 'G']\n",
    "gcar.head(3)"
   ]
  },
  {
   "cell_type": "markdown",
   "id": "4af78790",
   "metadata": {},
   "source": [
    "Большой спрос на автомобили с бензиновым двигателем. Затем идут дизельные двигатели, а за ними гибридные. Лишь в июне была куплена одна электрическая BMW, а в июле была куплена партия автобусов с газовым двигателем. В остальном электрокары и автомобили на газу не продавались."
   ]
  },
  {
   "cell_type": "markdown",
   "id": "770cd29c",
   "metadata": {},
   "source": [
    "#### Продажи по сегментам"
   ]
  },
  {
   "cell_type": "code",
   "execution_count": 52,
   "id": "cd38551a",
   "metadata": {},
   "outputs": [
    {
     "data": {
      "text/html": [
       "<div>\n",
       "<style scoped>\n",
       "    .dataframe tbody tr th:only-of-type {\n",
       "        vertical-align: middle;\n",
       "    }\n",
       "\n",
       "    .dataframe tbody tr th {\n",
       "        vertical-align: top;\n",
       "    }\n",
       "\n",
       "    .dataframe thead th {\n",
       "        text-align: right;\n",
       "    }\n",
       "</style>\n",
       "<table border=\"1\" class=\"dataframe\">\n",
       "  <thead>\n",
       "    <tr style=\"text-align: right;\">\n",
       "      <th>сегментация_2013</th>\n",
       "      <th>Внедорожники</th>\n",
       "      <th>Коммерческие автомобили</th>\n",
       "      <th>Легковые автомобили</th>\n",
       "      <th>Минивэны</th>\n",
       "      <th>Пикапы</th>\n",
       "    </tr>\n",
       "    <tr>\n",
       "      <th>дата</th>\n",
       "      <th></th>\n",
       "      <th></th>\n",
       "      <th></th>\n",
       "      <th></th>\n",
       "      <th></th>\n",
       "    </tr>\n",
       "  </thead>\n",
       "  <tbody>\n",
       "    <tr>\n",
       "      <th>2019-01-01</th>\n",
       "      <td>41,612,413</td>\n",
       "      <td>6,324,459</td>\n",
       "      <td>23,745,316</td>\n",
       "      <td>443,631</td>\n",
       "      <td>2,527,864</td>\n",
       "    </tr>\n",
       "    <tr>\n",
       "      <th>2019-02-01</th>\n",
       "      <td>51,853,560</td>\n",
       "      <td>8,728,026</td>\n",
       "      <td>29,526,413</td>\n",
       "      <td>253,270</td>\n",
       "      <td>3,385,956</td>\n",
       "    </tr>\n",
       "    <tr>\n",
       "      <th>2019-03-01</th>\n",
       "      <td>47,075,943</td>\n",
       "      <td>9,276,203</td>\n",
       "      <td>32,100,150</td>\n",
       "      <td>42,376</td>\n",
       "      <td>2,550,225</td>\n",
       "    </tr>\n",
       "    <tr>\n",
       "      <th>2019-04-01</th>\n",
       "      <td>58,652,477</td>\n",
       "      <td>9,641,017</td>\n",
       "      <td>32,339,106</td>\n",
       "      <td>218,552</td>\n",
       "      <td>3,848,138</td>\n",
       "    </tr>\n",
       "    <tr>\n",
       "      <th>2019-05-01</th>\n",
       "      <td>66,788,976</td>\n",
       "      <td>10,839,674</td>\n",
       "      <td>49,343,873</td>\n",
       "      <td>725,689</td>\n",
       "      <td>2,847,223</td>\n",
       "    </tr>\n",
       "    <tr>\n",
       "      <th>2019-06-01</th>\n",
       "      <td>75,201,635</td>\n",
       "      <td>7,980,142</td>\n",
       "      <td>52,419,513</td>\n",
       "      <td>370,525</td>\n",
       "      <td>4,651,299</td>\n",
       "    </tr>\n",
       "    <tr>\n",
       "      <th>2019-07-01</th>\n",
       "      <td>67,302,997</td>\n",
       "      <td>16,327,932</td>\n",
       "      <td>42,447,038</td>\n",
       "      <td>142,263</td>\n",
       "      <td>2,771,394</td>\n",
       "    </tr>\n",
       "    <tr>\n",
       "      <th>2019-08-01</th>\n",
       "      <td>76,441,259</td>\n",
       "      <td>12,634,317</td>\n",
       "      <td>40,385,971</td>\n",
       "      <td>15,181</td>\n",
       "      <td>2,850,564</td>\n",
       "    </tr>\n",
       "    <tr>\n",
       "      <th>2019-09-01</th>\n",
       "      <td>78,677,980</td>\n",
       "      <td>9,386,423</td>\n",
       "      <td>39,452,953</td>\n",
       "      <td>113,694</td>\n",
       "      <td>1,693,469</td>\n",
       "    </tr>\n",
       "  </tbody>\n",
       "</table>\n",
       "</div>"
      ],
      "text/plain": [
       "сегментация_2013  Внедорожники   Коммерческие автомобили   \\\n",
       "дата                                                        \n",
       "2019-01-01           41,612,413                 6,324,459   \n",
       "2019-02-01           51,853,560                 8,728,026   \n",
       "2019-03-01           47,075,943                 9,276,203   \n",
       "2019-04-01           58,652,477                 9,641,017   \n",
       "2019-05-01           66,788,976                10,839,674   \n",
       "2019-06-01           75,201,635                 7,980,142   \n",
       "2019-07-01           67,302,997                16,327,932   \n",
       "2019-08-01           76,441,259                12,634,317   \n",
       "2019-09-01           78,677,980                 9,386,423   \n",
       "\n",
       "сегментация_2013  Легковые автомобили   Минивэны   Пикапы   \n",
       "дата                                                        \n",
       "2019-01-01                  23,745,316   443,631 2,527,864  \n",
       "2019-02-01                  29,526,413   253,270 3,385,956  \n",
       "2019-03-01                  32,100,150    42,376 2,550,225  \n",
       "2019-04-01                  32,339,106   218,552 3,848,138  \n",
       "2019-05-01                  49,343,873   725,689 2,847,223  \n",
       "2019-06-01                  52,419,513   370,525 4,651,299  \n",
       "2019-07-01                  42,447,038   142,263 2,771,394  \n",
       "2019-08-01                  40,385,971    15,181 2,850,564  \n",
       "2019-09-01                  39,452,953   113,694 1,693,469  "
      ]
     },
     "execution_count": 52,
     "metadata": {},
     "output_type": "execute_result"
    }
   ],
   "source": [
    "segment = pd.pivot_table(data, index='дата', columns='сегментация_2013', values='продажа_usd', aggfunc='sum')\n",
    "segment"
   ]
  },
  {
   "cell_type": "code",
   "execution_count": 53,
   "id": "05633fc3",
   "metadata": {},
   "outputs": [
    {
     "data": {
      "image/png": "[encoded data removed]",
      "text/plain": [
       "<Figure size 640x480 with 1 Axes>"
      ]
     },
     "metadata": {},
     "output_type": "display_data"
    }
   ],
   "source": [
    "segment.plot(marker='s')\n",
    "plt.title('Динамика продаж автомобилей по сегментам')\n",
    "plt.ylabel('Объем продаж $')\n",
    "plt.grid (True)\n",
    "plt.legend(loc='center left', bbox_to_anchor=(1, 0.5))\n",
    "plt.show()"
   ]
  },
  {
   "cell_type": "markdown",
   "id": "fbc93c4e",
   "metadata": {},
   "source": [
    "Наибольший спрос на внедорожники, затем на легковые автомобили. Пикап и минивэны отстающие сегменты."
   ]
  },
  {
   "cell_type": "markdown",
   "id": "d2e126a8",
   "metadata": {},
   "source": [
    "### Продажи по регионам"
   ]
  },
  {
   "cell_type": "markdown",
   "id": "5b647ed5",
   "metadata": {},
   "source": [
    "Определим 10 регионов с самым большим объемом продаж."
   ]
  },
  {
   "cell_type": "code",
   "execution_count": 54,
   "id": "33fee31c",
   "metadata": {
    "scrolled": false
   },
   "outputs": [
    {
     "data": {
      "text/html": [
       "<div>\n",
       "<style scoped>\n",
       "    .dataframe tbody tr th:only-of-type {\n",
       "        vertical-align: middle;\n",
       "    }\n",
       "\n",
       "    .dataframe tbody tr th {\n",
       "        vertical-align: top;\n",
       "    }\n",
       "\n",
       "    .dataframe thead th {\n",
       "        text-align: right;\n",
       "    }\n",
       "</style>\n",
       "<table border=\"1\" class=\"dataframe\">\n",
       "  <thead>\n",
       "    <tr style=\"text-align: right;\">\n",
       "      <th></th>\n",
       "      <th>регион</th>\n",
       "      <th>продажа_usd</th>\n",
       "    </tr>\n",
       "  </thead>\n",
       "  <tbody>\n",
       "    <tr>\n",
       "      <th>3</th>\n",
       "      <td>Алматы</td>\n",
       "      <td>328,245,798</td>\n",
       "    </tr>\n",
       "    <tr>\n",
       "      <th>4</th>\n",
       "      <td>Астана</td>\n",
       "      <td>226,826,446</td>\n",
       "    </tr>\n",
       "    <tr>\n",
       "      <th>5</th>\n",
       "      <td>Атырау</td>\n",
       "      <td>67,330,852</td>\n",
       "    </tr>\n",
       "    <tr>\n",
       "      <th>19</th>\n",
       "      <td>Шымкент</td>\n",
       "      <td>55,748,208</td>\n",
       "    </tr>\n",
       "    <tr>\n",
       "      <th>8</th>\n",
       "      <td>Костанай</td>\n",
       "      <td>54,281,570</td>\n",
       "    </tr>\n",
       "    <tr>\n",
       "      <th>6</th>\n",
       "      <td>Караганда</td>\n",
       "      <td>49,148,334</td>\n",
       "    </tr>\n",
       "    <tr>\n",
       "      <th>18</th>\n",
       "      <td>Усть-Каменогорск</td>\n",
       "      <td>36,079,957</td>\n",
       "    </tr>\n",
       "    <tr>\n",
       "      <th>17</th>\n",
       "      <td>Уральск</td>\n",
       "      <td>35,475,955</td>\n",
       "    </tr>\n",
       "    <tr>\n",
       "      <th>1</th>\n",
       "      <td>Актау</td>\n",
       "      <td>35,375,702</td>\n",
       "    </tr>\n",
       "    <tr>\n",
       "      <th>2</th>\n",
       "      <td>Актобе</td>\n",
       "      <td>32,946,576</td>\n",
       "    </tr>\n",
       "  </tbody>\n",
       "</table>\n",
       "</div>"
      ],
      "text/plain": [
       "              регион  продажа_usd\n",
       "3             Алматы  328,245,798\n",
       "4             Астана  226,826,446\n",
       "5             Атырау   67,330,852\n",
       "19           Шымкент   55,748,208\n",
       "8           Костанай   54,281,570\n",
       "6          Караганда   49,148,334\n",
       "18  Усть-Каменогорск   36,079,957\n",
       "17           Уральск   35,475,955\n",
       "1              Актау   35,375,702\n",
       "2             Актобе   32,946,576"
      ]
     },
     "metadata": {},
     "output_type": "display_data"
    },
    {
     "data": {
      "image/png": "[encoded data removed]",
      "text/plain": [
       "<Figure size 1600x800 with 1 Axes>"
      ]
     },
     "metadata": {},
     "output_type": "display_data"
    }
   ],
   "source": [
    "region_sales = (data.groupby('регион', as_index=False)['продажа_usd']\n",
    "                .agg('sum')\n",
    "                .sort_values(by='продажа_usd', ascending=False)\n",
    "                .head(10))\n",
    "display(region_sales)\n",
    "\n",
    "plt.figure(figsize=(16, 8))\n",
    "plt.title('Топ-10 регионов по продаже автомобилей в Казахстане')\n",
    "squarify.plot(sizes=region_sales['продажа_usd'], label=region_sales['регион'], alpha=0.6, ec = 'black')\n",
    "plt.axis('off')\n",
    "plt.show()"
   ]
  },
  {
   "cell_type": "markdown",
   "id": "9512df4c",
   "metadata": {},
   "source": [
    "Ожидаемо, что на 2 самых крупных города Казахстана приходится почти 2/3 продаж"
   ]
  },
  {
   "cell_type": "markdown",
   "id": "b8501828",
   "metadata": {},
   "source": [
    "### Продажи по дилерам"
   ]
  },
  {
   "cell_type": "code",
   "execution_count": 55,
   "id": "2b997013",
   "metadata": {
    "scrolled": false
   },
   "outputs": [
    {
     "data": {
      "text/html": [
       "<div>\n",
       "<style scoped>\n",
       "    .dataframe tbody tr th:only-of-type {\n",
       "        vertical-align: middle;\n",
       "    }\n",
       "\n",
       "    .dataframe tbody tr th {\n",
       "        vertical-align: top;\n",
       "    }\n",
       "\n",
       "    .dataframe thead th {\n",
       "        text-align: right;\n",
       "    }\n",
       "</style>\n",
       "<table border=\"1\" class=\"dataframe\">\n",
       "  <thead>\n",
       "    <tr style=\"text-align: right;\">\n",
       "      <th></th>\n",
       "      <th>компания</th>\n",
       "      <th>продажа_usd</th>\n",
       "    </tr>\n",
       "  </thead>\n",
       "  <tbody>\n",
       "    <tr>\n",
       "      <th>15</th>\n",
       "      <td>Toyota Motor Kazakhstan</td>\n",
       "      <td>467,160,158</td>\n",
       "    </tr>\n",
       "    <tr>\n",
       "      <th>18</th>\n",
       "      <td>БИПЭК АВТО</td>\n",
       "      <td>151,241,688</td>\n",
       "    </tr>\n",
       "    <tr>\n",
       "      <th>1</th>\n",
       "      <td>Astana Motors</td>\n",
       "      <td>128,815,365</td>\n",
       "    </tr>\n",
       "    <tr>\n",
       "      <th>19</th>\n",
       "      <td>Вираж</td>\n",
       "      <td>58,116,989</td>\n",
       "    </tr>\n",
       "    <tr>\n",
       "      <th>8</th>\n",
       "      <td>Nissan Manufacturing RUS</td>\n",
       "      <td>43,263,539</td>\n",
       "    </tr>\n",
       "    <tr>\n",
       "      <th>0</th>\n",
       "      <td>Allur Auto</td>\n",
       "      <td>28,064,063</td>\n",
       "    </tr>\n",
       "    <tr>\n",
       "      <th>7</th>\n",
       "      <td>Mercur Auto</td>\n",
       "      <td>24,323,357</td>\n",
       "    </tr>\n",
       "    <tr>\n",
       "      <th>16</th>\n",
       "      <td>Автоцентр-Бавария</td>\n",
       "      <td>24,235,302</td>\n",
       "    </tr>\n",
       "    <tr>\n",
       "      <th>14</th>\n",
       "      <td>Subaru Kazakhstan</td>\n",
       "      <td>17,311,553</td>\n",
       "    </tr>\n",
       "    <tr>\n",
       "      <th>25</th>\n",
       "      <td>УзАвто-Казахстан</td>\n",
       "      <td>17,149,090</td>\n",
       "    </tr>\n",
       "  </tbody>\n",
       "</table>\n",
       "</div>"
      ],
      "text/plain": [
       "                    компания  продажа_usd\n",
       "15   Toyota Motor Kazakhstan  467,160,158\n",
       "18                БИПЭК АВТО  151,241,688\n",
       "1              Astana Motors  128,815,365\n",
       "19                     Вираж   58,116,989\n",
       "8   Nissan Manufacturing RUS   43,263,539\n",
       "0                 Allur Auto   28,064,063\n",
       "7                Mercur Auto   24,323,357\n",
       "16         Автоцентр-Бавария   24,235,302\n",
       "14         Subaru Kazakhstan   17,311,553\n",
       "25          УзАвто-Казахстан   17,149,090"
      ]
     },
     "metadata": {},
     "output_type": "display_data"
    },
    {
     "data": {
      "image/png": "[encoded data removed]",
      "text/plain": [
       "<Figure size 1600x800 with 1 Axes>"
      ]
     },
     "metadata": {},
     "output_type": "display_data"
    }
   ],
   "source": [
    "dealer_sales = (data.groupby('компания', as_index=False)['продажа_usd']\n",
    "                .agg('sum')\n",
    "                .sort_values(by='продажа_usd', ascending=False)\n",
    "                .head(10))\n",
    "display(dealer_sales)\n",
    "\n",
    "plt.figure(figsize=(16, 8))\n",
    "plt.title('Топ-10 автоцентров по продаже автомобилей в Казахстане')\n",
    "squarify.plot(sizes=dealer_sales['продажа_usd'], label=dealer_sales['компания'], alpha=0.6, ec = 'black')\n",
    "plt.axis('off')\n",
    "plt.show()"
   ]
  },
  {
   "cell_type": "markdown",
   "id": "491fdeb8",
   "metadata": {},
   "source": [
    "3 дилера занимают почти 3/4 рынка. При этом одна Toyota занимает почти половину"
   ]
  },
  {
   "cell_type": "markdown",
   "id": "6f4809be",
   "metadata": {},
   "source": [
    "### Промежуточный итог\n",
    "\n",
    "3 наиболее популярных производителя на рынке Казахстана - Lada, Toyota и Hyundai. За 9 месяцев 2019 года рынок значительно вырос  (продажи в сетнябре на 73 процента выше, чем в январе). Наибольший объем продаж у автомобилей с бензиновым двигателем. И в основном покупают внедорожники и легковые автомобили.\n",
    "\n",
    "Почти половина продаж приходится на 2 крупнейших города страны: Астана и Алматы. И большую часть рынка делят между собой 3 дилера: Toyota Motor Kazakhstan, БИПЭК АВТО и Astana Motors."
   ]
  },
  {
   "cell_type": "markdown",
   "id": "663ef139",
   "metadata": {},
   "source": [
    "## Показатели эффективности Mercur Auto"
   ]
  },
  {
   "cell_type": "markdown",
   "id": "12056bc8",
   "metadata": {},
   "source": [
    "### Выручка за весь период"
   ]
  },
  {
   "cell_type": "code",
   "execution_count": 56,
   "id": "bc1563ba",
   "metadata": {},
   "outputs": [
    {
     "name": "stdout",
     "output_type": "stream",
     "text": [
      "Общая выручка за 9 месяцев 24323357.23$\n"
     ]
    },
    {
     "data": {
      "text/html": [
       "<div>\n",
       "<style scoped>\n",
       "    .dataframe tbody tr th:only-of-type {\n",
       "        vertical-align: middle;\n",
       "    }\n",
       "\n",
       "    .dataframe tbody tr th {\n",
       "        vertical-align: top;\n",
       "    }\n",
       "\n",
       "    .dataframe thead th {\n",
       "        text-align: right;\n",
       "    }\n",
       "</style>\n",
       "<table border=\"1\" class=\"dataframe\">\n",
       "  <thead>\n",
       "    <tr style=\"text-align: right;\">\n",
       "      <th></th>\n",
       "      <th>бренд</th>\n",
       "      <th>продажа_usd</th>\n",
       "    </tr>\n",
       "  </thead>\n",
       "  <tbody>\n",
       "    <tr>\n",
       "      <th>2</th>\n",
       "      <td>Volkswagen</td>\n",
       "      <td>11,450,900</td>\n",
       "    </tr>\n",
       "    <tr>\n",
       "      <th>1</th>\n",
       "      <td>Porsche</td>\n",
       "      <td>6,547,384</td>\n",
       "    </tr>\n",
       "    <tr>\n",
       "      <th>0</th>\n",
       "      <td>Audi</td>\n",
       "      <td>6,325,073</td>\n",
       "    </tr>\n",
       "  </tbody>\n",
       "</table>\n",
       "</div>"
      ],
      "text/plain": [
       "        бренд  продажа_usd\n",
       "2  Volkswagen   11,450,900\n",
       "1     Porsche    6,547,384\n",
       "0        Audi    6,325,073"
      ]
     },
     "metadata": {},
     "output_type": "display_data"
    }
   ],
   "source": [
    "mercur_auto = data[data['компания'] == 'Mercur Auto']\n",
    "\n",
    "revenue = round(mercur_auto['продажа_usd'].sum(), 2)\n",
    "print(f'Общая выручка за 9 месяцев {revenue}$')\n",
    "\n",
    "revenue_by_brend = (mercur_auto.groupby('бренд', as_index=False)['продажа_usd'].agg('sum')\n",
    "                   .sort_values(by='продажа_usd', ascending=False))\n",
    "\n",
    "display(revenue_by_brend)"
   ]
  },
  {
   "cell_type": "markdown",
   "id": "a807b2d3",
   "metadata": {},
   "source": [
    "Выручка за 9 месяцев составила 24.3 млн $, большую часть которой принес Volkswagen"
   ]
  },
  {
   "cell_type": "markdown",
   "id": "658892d1",
   "metadata": {},
   "source": [
    "### Средняя стоимость продажи за весь преиод"
   ]
  },
  {
   "cell_type": "code",
   "execution_count": 57,
   "id": "24bcef0f",
   "metadata": {},
   "outputs": [
    {
     "name": "stdout",
     "output_type": "stream",
     "text": [
      "Средняя стоимость продажи 40742.64$\n"
     ]
    },
    {
     "data": {
      "text/html": [
       "<div>\n",
       "<style scoped>\n",
       "    .dataframe tbody tr th:only-of-type {\n",
       "        vertical-align: middle;\n",
       "    }\n",
       "\n",
       "    .dataframe tbody tr th {\n",
       "        vertical-align: top;\n",
       "    }\n",
       "\n",
       "    .dataframe thead th {\n",
       "        text-align: right;\n",
       "    }\n",
       "</style>\n",
       "<table border=\"1\" class=\"dataframe\">\n",
       "  <thead>\n",
       "    <tr style=\"text-align: right;\">\n",
       "      <th></th>\n",
       "      <th>бренд</th>\n",
       "      <th>продажа_usd</th>\n",
       "    </tr>\n",
       "  </thead>\n",
       "  <tbody>\n",
       "    <tr>\n",
       "      <th>1</th>\n",
       "      <td>Porsche</td>\n",
       "      <td>109,123</td>\n",
       "    </tr>\n",
       "    <tr>\n",
       "      <th>0</th>\n",
       "      <td>Audi</td>\n",
       "      <td>62,011</td>\n",
       "    </tr>\n",
       "    <tr>\n",
       "      <th>2</th>\n",
       "      <td>Volkswagen</td>\n",
       "      <td>26,324</td>\n",
       "    </tr>\n",
       "  </tbody>\n",
       "</table>\n",
       "</div>"
      ],
      "text/plain": [
       "        бренд  продажа_usd\n",
       "1     Porsche      109,123\n",
       "0        Audi       62,011\n",
       "2  Volkswagen       26,324"
      ]
     },
     "metadata": {},
     "output_type": "display_data"
    }
   ],
   "source": [
    "avg_cost = round(mercur_auto['продажа_usd'].mean(), 2)\n",
    "print(f'Средняя стоимость продажи {avg_cost}$')\n",
    "\n",
    "avg_cost_by_brend = (mercur_auto.groupby('бренд', as_index=False)['продажа_usd'].agg('mean')\n",
    "                   .sort_values(by='продажа_usd', ascending=False))\n",
    "display(avg_cost_by_brend)"
   ]
  },
  {
   "cell_type": "markdown",
   "id": "c57f39fa",
   "metadata": {},
   "source": [
    "### Динамика выручки по месяцам"
   ]
  },
  {
   "cell_type": "code",
   "execution_count": 58,
   "id": "9a2cafdf",
   "metadata": {
    "scrolled": false
   },
   "outputs": [
    {
     "data": {
      "text/plain": [
       "дата\n",
       "2019-01-01   1,984,519\n",
       "2019-02-01   1,643,827\n",
       "2019-03-01   1,646,162\n",
       "2019-04-01   3,625,124\n",
       "2019-05-01   3,801,603\n",
       "2019-06-01   3,937,747\n",
       "2019-07-01   1,628,563\n",
       "2019-08-01   2,441,936\n",
       "2019-09-01   3,613,877\n",
       "Name: продажа_usd, dtype: float64"
      ]
     },
     "metadata": {},
     "output_type": "display_data"
    },
    {
     "data": {
      "image/png": "[encoded data removed]",
      "text/plain": [
       "<Figure size 640x480 with 1 Axes>"
      ]
     },
     "metadata": {},
     "output_type": "display_data"
    }
   ],
   "source": [
    "monthy_revenue = mercur_auto.groupby('дата')['продажа_usd'].agg('sum')\n",
    "display(monthy_revenue)\n",
    "\n",
    "monthy_revenue.plot()\n",
    "plt.title('Изменение выручки по месяцам')\n",
    "plt.ylabel('Объем продаж $')\n",
    "plt.ylim(0)\n",
    "plt.grid (True)\n",
    "plt.show()"
   ]
  },
  {
   "cell_type": "markdown",
   "id": "bf3d036e",
   "metadata": {},
   "source": [
    "В целом видно по месяцам, что выручка росла, кроме июля."
   ]
  },
  {
   "cell_type": "markdown",
   "id": "1ab61d79",
   "metadata": {},
   "source": [
    "### Средняя стоимость продажи по месяцам"
   ]
  },
  {
   "cell_type": "code",
   "execution_count": 59,
   "id": "38edfc7d",
   "metadata": {
    "scrolled": false
   },
   "outputs": [
    {
     "data": {
      "text/plain": [
       "дата\n",
       "2019-01-01   38,164\n",
       "2019-02-01   74,719\n",
       "2019-03-01   35,786\n",
       "2019-04-01   35,195\n",
       "2019-05-01   42,715\n",
       "2019-06-01   46,326\n",
       "2019-07-01   81,428\n",
       "2019-08-01   41,389\n",
       "2019-09-01   29,867\n",
       "Name: продажа_usd, dtype: float64"
      ]
     },
     "metadata": {},
     "output_type": "display_data"
    },
    {
     "data": {
      "image/png": "[encoded data removed]",
      "text/plain": [
       "<Figure size 640x480 with 1 Axes>"
      ]
     },
     "metadata": {},
     "output_type": "display_data"
    }
   ],
   "source": [
    "avg_monthy_cost = mercur_auto.groupby('дата')['продажа_usd'].agg('mean')\n",
    "display(avg_monthy_cost)\n",
    "\n",
    "avg_monthy_cost.plot()\n",
    "plt.title('Средняя стоимость продажи автомобилей по месяцам')\n",
    "plt.ylabel('Стоимость $')\n",
    "plt.ylim(0)\n",
    "plt.grid (True)\n",
    "plt.show()"
   ]
  },
  {
   "cell_type": "markdown",
   "id": "5acfba33",
   "metadata": {},
   "source": [
    "Заметны скачки средней стоимости продажи в феврале и июле, причем выручка в это время снижалась."
   ]
  },
  {
   "cell_type": "markdown",
   "id": "08451ab5",
   "metadata": {},
   "source": [
    "### Ежемесячная выручка по брендам"
   ]
  },
  {
   "cell_type": "code",
   "execution_count": 60,
   "id": "823b110c",
   "metadata": {
    "scrolled": false
   },
   "outputs": [
    {
     "data": {
      "text/html": [
       "<div>\n",
       "<style scoped>\n",
       "    .dataframe tbody tr th:only-of-type {\n",
       "        vertical-align: middle;\n",
       "    }\n",
       "\n",
       "    .dataframe tbody tr th {\n",
       "        vertical-align: top;\n",
       "    }\n",
       "\n",
       "    .dataframe thead th {\n",
       "        text-align: right;\n",
       "    }\n",
       "</style>\n",
       "<table border=\"1\" class=\"dataframe\">\n",
       "  <thead>\n",
       "    <tr style=\"text-align: right;\">\n",
       "      <th>бренд</th>\n",
       "      <th>Audi</th>\n",
       "      <th>Porsche</th>\n",
       "      <th>Volkswagen</th>\n",
       "    </tr>\n",
       "    <tr>\n",
       "      <th>дата</th>\n",
       "      <th></th>\n",
       "      <th></th>\n",
       "      <th></th>\n",
       "    </tr>\n",
       "  </thead>\n",
       "  <tbody>\n",
       "    <tr>\n",
       "      <th>2019-01-01</th>\n",
       "      <td>689,924</td>\n",
       "      <td>352,163</td>\n",
       "      <td>942,431</td>\n",
       "    </tr>\n",
       "    <tr>\n",
       "      <th>2019-02-01</th>\n",
       "      <td>858,706</td>\n",
       "      <td>785,121</td>\n",
       "      <td>NaN</td>\n",
       "    </tr>\n",
       "    <tr>\n",
       "      <th>2019-03-01</th>\n",
       "      <td>570,077</td>\n",
       "      <td>293,341</td>\n",
       "      <td>782,744</td>\n",
       "    </tr>\n",
       "    <tr>\n",
       "      <th>2019-04-01</th>\n",
       "      <td>418,282</td>\n",
       "      <td>514,618</td>\n",
       "      <td>2,692,223</td>\n",
       "    </tr>\n",
       "    <tr>\n",
       "      <th>2019-05-01</th>\n",
       "      <td>320,652</td>\n",
       "      <td>983,217</td>\n",
       "      <td>2,497,734</td>\n",
       "    </tr>\n",
       "    <tr>\n",
       "      <th>2019-06-01</th>\n",
       "      <td>849,740</td>\n",
       "      <td>973,679</td>\n",
       "      <td>2,114,328</td>\n",
       "    </tr>\n",
       "    <tr>\n",
       "      <th>2019-07-01</th>\n",
       "      <td>445,641</td>\n",
       "      <td>1,162,298</td>\n",
       "      <td>20,625</td>\n",
       "    </tr>\n",
       "    <tr>\n",
       "      <th>2019-08-01</th>\n",
       "      <td>1,134,418</td>\n",
       "      <td>655,894</td>\n",
       "      <td>651,625</td>\n",
       "    </tr>\n",
       "    <tr>\n",
       "      <th>2019-09-01</th>\n",
       "      <td>1,037,633</td>\n",
       "      <td>827,053</td>\n",
       "      <td>1,749,191</td>\n",
       "    </tr>\n",
       "  </tbody>\n",
       "</table>\n",
       "</div>"
      ],
      "text/plain": [
       "бренд           Audi   Porsche  Volkswagen\n",
       "дата                                      \n",
       "2019-01-01   689,924   352,163     942,431\n",
       "2019-02-01   858,706   785,121         NaN\n",
       "2019-03-01   570,077   293,341     782,744\n",
       "2019-04-01   418,282   514,618   2,692,223\n",
       "2019-05-01   320,652   983,217   2,497,734\n",
       "2019-06-01   849,740   973,679   2,114,328\n",
       "2019-07-01   445,641 1,162,298      20,625\n",
       "2019-08-01 1,134,418   655,894     651,625\n",
       "2019-09-01 1,037,633   827,053   1,749,191"
      ]
     },
     "metadata": {},
     "output_type": "display_data"
    },
    {
     "data": {
      "image/png": "[encoded data removed]",
      "text/plain": [
       "<Figure size 640x480 with 1 Axes>"
      ]
     },
     "metadata": {},
     "output_type": "display_data"
    }
   ],
   "source": [
    "monthly_revenue_by_brend = pd.pivot_table(mercur_auto, index='дата', columns='бренд', values='продажа_usd', aggfunc='sum')\n",
    "display(monthly_revenue_by_brend)\n",
    "\n",
    "monthly_revenue_by_brend.plot()\n",
    "plt.title('Ежемесячная выручка по брендам')\n",
    "plt.ylabel('Объем продаж $')\n",
    "plt.ylim(0)\n",
    "plt.grid (True)\n",
    "plt.show()"
   ]
  },
  {
   "cell_type": "markdown",
   "id": "0fb156bf",
   "metadata": {},
   "source": [
    "### Ежемесячная средняя стоимость продажи по брендам"
   ]
  },
  {
   "cell_type": "code",
   "execution_count": 61,
   "id": "55f52207",
   "metadata": {
    "scrolled": false
   },
   "outputs": [
    {
     "data": {
      "text/html": [
       "<div>\n",
       "<style scoped>\n",
       "    .dataframe tbody tr th:only-of-type {\n",
       "        vertical-align: middle;\n",
       "    }\n",
       "\n",
       "    .dataframe tbody tr th {\n",
       "        vertical-align: top;\n",
       "    }\n",
       "\n",
       "    .dataframe thead th {\n",
       "        text-align: right;\n",
       "    }\n",
       "</style>\n",
       "<table border=\"1\" class=\"dataframe\">\n",
       "  <thead>\n",
       "    <tr style=\"text-align: right;\">\n",
       "      <th>бренд</th>\n",
       "      <th>Audi</th>\n",
       "      <th>Porsche</th>\n",
       "      <th>Volkswagen</th>\n",
       "    </tr>\n",
       "    <tr>\n",
       "      <th>дата</th>\n",
       "      <th></th>\n",
       "      <th></th>\n",
       "      <th></th>\n",
       "    </tr>\n",
       "  </thead>\n",
       "  <tbody>\n",
       "    <tr>\n",
       "      <th>2019-01-01</th>\n",
       "      <td>45,995</td>\n",
       "      <td>117,388</td>\n",
       "      <td>27,719</td>\n",
       "    </tr>\n",
       "    <tr>\n",
       "      <th>2019-02-01</th>\n",
       "      <td>53,669</td>\n",
       "      <td>130,854</td>\n",
       "      <td>NaN</td>\n",
       "    </tr>\n",
       "    <tr>\n",
       "      <th>2019-03-01</th>\n",
       "      <td>81,440</td>\n",
       "      <td>97,780</td>\n",
       "      <td>21,743</td>\n",
       "    </tr>\n",
       "    <tr>\n",
       "      <th>2019-04-01</th>\n",
       "      <td>59,755</td>\n",
       "      <td>128,655</td>\n",
       "      <td>29,263</td>\n",
       "    </tr>\n",
       "    <tr>\n",
       "      <th>2019-05-01</th>\n",
       "      <td>64,130</td>\n",
       "      <td>98,322</td>\n",
       "      <td>33,753</td>\n",
       "    </tr>\n",
       "    <tr>\n",
       "      <th>2019-06-01</th>\n",
       "      <td>70,812</td>\n",
       "      <td>97,368</td>\n",
       "      <td>33,561</td>\n",
       "    </tr>\n",
       "    <tr>\n",
       "      <th>2019-07-01</th>\n",
       "      <td>49,516</td>\n",
       "      <td>116,230</td>\n",
       "      <td>20,625</td>\n",
       "    </tr>\n",
       "    <tr>\n",
       "      <th>2019-08-01</th>\n",
       "      <td>75,628</td>\n",
       "      <td>93,699</td>\n",
       "      <td>17,611</td>\n",
       "    </tr>\n",
       "    <tr>\n",
       "      <th>2019-09-01</th>\n",
       "      <td>64,852</td>\n",
       "      <td>118,150</td>\n",
       "      <td>17,849</td>\n",
       "    </tr>\n",
       "  </tbody>\n",
       "</table>\n",
       "</div>"
      ],
      "text/plain": [
       "бренд        Audi  Porsche  Volkswagen\n",
       "дата                                  \n",
       "2019-01-01 45,995  117,388      27,719\n",
       "2019-02-01 53,669  130,854         NaN\n",
       "2019-03-01 81,440   97,780      21,743\n",
       "2019-04-01 59,755  128,655      29,263\n",
       "2019-05-01 64,130   98,322      33,753\n",
       "2019-06-01 70,812   97,368      33,561\n",
       "2019-07-01 49,516  116,230      20,625\n",
       "2019-08-01 75,628   93,699      17,611\n",
       "2019-09-01 64,852  118,150      17,849"
      ]
     },
     "metadata": {},
     "output_type": "display_data"
    },
    {
     "data": {
      "image/png": "[encoded data removed]",
      "text/plain": [
       "<Figure size 640x480 with 1 Axes>"
      ]
     },
     "metadata": {},
     "output_type": "display_data"
    }
   ],
   "source": [
    "avg_monthly_revenue_by_brend = pd.pivot_table(mercur_auto, index='дата', columns='бренд', values='продажа_usd', aggfunc='mean')\n",
    "display(avg_monthly_revenue_by_brend)\n",
    "\n",
    "avg_monthly_revenue_by_brend.plot()\n",
    "plt.title('Ежемесячная средняя стоимость продажи по брендам')\n",
    "plt.ylabel('Стоимость $')\n",
    "plt.ylim(0)\n",
    "plt.grid (True)\n",
    "plt.legend(loc='center left', bbox_to_anchor=(1, 0.5))\n",
    "plt.show()"
   ]
  },
  {
   "cell_type": "markdown",
   "id": "7b009e5e",
   "metadata": {},
   "source": [
    "Заметно, что выручка росла, когда падал средний чек. Это произошло, потому что в это время, как видно из графиков, был всплеск продаж марки Volkswagen. Porsche и Audi продаются относительно равномерно по стабильным ценам."
   ]
  },
  {
   "cell_type": "markdown",
   "id": "f811f560",
   "metadata": {},
   "source": [
    "### Ёмкость рынка"
   ]
  },
  {
   "cell_type": "code",
   "execution_count": 62,
   "id": "ce237cc2",
   "metadata": {},
   "outputs": [
    {
     "data": {
      "text/plain": [
       "1025957078.0099266"
      ]
     },
     "execution_count": 62,
     "metadata": {},
     "output_type": "execute_result"
    }
   ],
   "source": [
    "market_capacity = data['продажа_usd'].sum()\n",
    "market_capacity"
   ]
  },
  {
   "cell_type": "code",
   "execution_count": 63,
   "id": "a2a16049",
   "metadata": {},
   "outputs": [
    {
     "data": {
      "text/plain": [
       "40738"
      ]
     },
     "execution_count": 63,
     "metadata": {},
     "output_type": "execute_result"
    }
   ],
   "source": [
    "market_capacity_units = data['количество'].sum()\n",
    "market_capacity_units"
   ]
  },
  {
   "cell_type": "markdown",
   "id": "3f90dbc6",
   "metadata": {},
   "source": [
    "За наблюдаемый период на рынке всего было продано 40 738 автомобилей на сумму 1 млрд 25 млн $."
   ]
  },
  {
   "cell_type": "markdown",
   "id": "f8af9507",
   "metadata": {},
   "source": [
    "### Ёмкость рынка по сегментам"
   ]
  },
  {
   "cell_type": "code",
   "execution_count": 64,
   "id": "17ee4ee6",
   "metadata": {},
   "outputs": [
    {
     "data": {
      "text/html": [
       "<div>\n",
       "<style scoped>\n",
       "    .dataframe tbody tr th:only-of-type {\n",
       "        vertical-align: middle;\n",
       "    }\n",
       "\n",
       "    .dataframe tbody tr th {\n",
       "        vertical-align: top;\n",
       "    }\n",
       "\n",
       "    .dataframe thead th {\n",
       "        text-align: right;\n",
       "    }\n",
       "</style>\n",
       "<table border=\"1\" class=\"dataframe\">\n",
       "  <thead>\n",
       "    <tr style=\"text-align: right;\">\n",
       "      <th></th>\n",
       "      <th>сегментация_2013</th>\n",
       "      <th>количество</th>\n",
       "      <th>продажа_usd</th>\n",
       "    </tr>\n",
       "  </thead>\n",
       "  <tbody>\n",
       "    <tr>\n",
       "      <th>0</th>\n",
       "      <td>Внедорожники</td>\n",
       "      <td>17,048</td>\n",
       "      <td>563,607,241</td>\n",
       "    </tr>\n",
       "    <tr>\n",
       "      <th>1</th>\n",
       "      <td>Легковые автомобили</td>\n",
       "      <td>19,336</td>\n",
       "      <td>341,760,332</td>\n",
       "    </tr>\n",
       "    <tr>\n",
       "      <th>2</th>\n",
       "      <td>Коммерческие автомобили</td>\n",
       "      <td>3,483</td>\n",
       "      <td>91,138,193</td>\n",
       "    </tr>\n",
       "    <tr>\n",
       "      <th>3</th>\n",
       "      <td>Пикапы</td>\n",
       "      <td>814</td>\n",
       "      <td>27,126,131</td>\n",
       "    </tr>\n",
       "    <tr>\n",
       "      <th>4</th>\n",
       "      <td>Минивэны</td>\n",
       "      <td>57</td>\n",
       "      <td>2,325,181</td>\n",
       "    </tr>\n",
       "  </tbody>\n",
       "</table>\n",
       "</div>"
      ],
      "text/plain": [
       "           сегментация_2013  количество  продажа_usd\n",
       "0             Внедорожники       17,048  563,607,241\n",
       "1      Легковые автомобили       19,336  341,760,332\n",
       "2  Коммерческие автомобили        3,483   91,138,193\n",
       "3                   Пикапы          814   27,126,131\n",
       "4                  Минивэны          57    2,325,181"
      ]
     },
     "metadata": {},
     "output_type": "display_data"
    },
    {
     "data": {
      "image/png": "[encoded data removed]",
      "text/plain": [
       "<Figure size 1600x800 with 1 Axes>"
      ]
     },
     "metadata": {},
     "output_type": "display_data"
    }
   ],
   "source": [
    "market_segment_capacity = (pd.pivot_table(data, index='сегментация_2013', values=['продажа_usd', 'количество'], aggfunc='sum')\n",
    "                           .sort_values(by='продажа_usd', ascending=False).reset_index())\n",
    "display(market_segment_capacity)\n",
    "\n",
    "plt.figure(figsize=(16, 8))\n",
    "plt.title('Ёмкость рынка по сегментам автомобилей')\n",
    "squarify.plot(sizes=market_segment_capacity['продажа_usd'], label=market_segment_capacity['сегментация_2013'], alpha=0.6, ec = 'black')\n",
    "plt.axis('off')\n",
    "plt.show()"
   ]
  },
  {
   "cell_type": "markdown",
   "id": "1f2e6a17",
   "metadata": {},
   "source": [
    "Общая ёмкость рынка 1.25 млрд $ из них почти 90% приходится на внедорожники и легковые автомобили"
   ]
  },
  {
   "cell_type": "markdown",
   "id": "24ac24ba",
   "metadata": {},
   "source": [
    "### Доля рынка"
   ]
  },
  {
   "cell_type": "code",
   "execution_count": 65,
   "id": "5e49eadc",
   "metadata": {},
   "outputs": [
    {
     "data": {
      "text/plain": [
       "2.3707967663960017"
      ]
     },
     "execution_count": 65,
     "metadata": {},
     "output_type": "execute_result"
    }
   ],
   "source": [
    "# посчитаем, какой процент продаж от общего объёма занимает Меркур Авто в денежном выражении\n",
    "mercur_market_share = mercur_auto['продажа_usd'].sum() * 100 / market_capacity\n",
    "mercur_market_share"
   ]
  },
  {
   "cell_type": "code",
   "execution_count": 66,
   "id": "f58a57b5",
   "metadata": {},
   "outputs": [
    {
     "data": {
      "text/plain": [
       "1.7747557562963328"
      ]
     },
     "execution_count": 66,
     "metadata": {},
     "output_type": "execute_result"
    }
   ],
   "source": [
    "# посчитаем, какой процент продаж от общего объёма занимает Меркур Авто в количественном выражении\n",
    "mercur_market_share_units = mercur_auto['количество'].sum() * 100 / market_capacity_units\n",
    "mercur_market_share_units"
   ]
  },
  {
   "cell_type": "markdown",
   "id": "a42fab70",
   "metadata": {},
   "source": [
    "Меркур Авто на рынке имеет долю 2.4% от объёма продаж в $ и 1.8% от объёма продаж в количественном выражении"
   ]
  },
  {
   "cell_type": "markdown",
   "id": "7f9a895c",
   "metadata": {},
   "source": [
    "### Доля рынка по маркам автомобилей"
   ]
  },
  {
   "cell_type": "code",
   "execution_count": 67,
   "id": "91831266",
   "metadata": {},
   "outputs": [
    {
     "data": {
      "text/html": [
       "<div>\n",
       "<style scoped>\n",
       "    .dataframe tbody tr th:only-of-type {\n",
       "        vertical-align: middle;\n",
       "    }\n",
       "\n",
       "    .dataframe tbody tr th {\n",
       "        vertical-align: top;\n",
       "    }\n",
       "\n",
       "    .dataframe thead th {\n",
       "        text-align: right;\n",
       "    }\n",
       "</style>\n",
       "<table border=\"1\" class=\"dataframe\">\n",
       "  <thead>\n",
       "    <tr style=\"text-align: right;\">\n",
       "      <th></th>\n",
       "      <th>количество</th>\n",
       "      <th>продажа_usd</th>\n",
       "    </tr>\n",
       "    <tr>\n",
       "      <th>бренд</th>\n",
       "      <th></th>\n",
       "      <th></th>\n",
       "    </tr>\n",
       "  </thead>\n",
       "  <tbody>\n",
       "    <tr>\n",
       "      <th>Volkswagen</th>\n",
       "      <td>558</td>\n",
       "      <td>11,450,900</td>\n",
       "    </tr>\n",
       "    <tr>\n",
       "      <th>Porsche</th>\n",
       "      <td>60</td>\n",
       "      <td>6,547,384</td>\n",
       "    </tr>\n",
       "    <tr>\n",
       "      <th>Audi</th>\n",
       "      <td>105</td>\n",
       "      <td>6,325,073</td>\n",
       "    </tr>\n",
       "  </tbody>\n",
       "</table>\n",
       "</div>"
      ],
      "text/plain": [
       "            количество  продажа_usd\n",
       "бренд                              \n",
       "Volkswagen         558   11,450,900\n",
       "Porsche             60    6,547,384\n",
       "Audi               105    6,325,073"
      ]
     },
     "execution_count": 67,
     "metadata": {},
     "output_type": "execute_result"
    }
   ],
   "source": [
    "mercur_market_brend_capacity = (data[(data['бренд'] == 'Volkswagen')|\n",
    "                              (data['бренд'] == 'Audi')|\n",
    "                             (data['бренд'] == 'Porsche')]\n",
    "                        )\n",
    "\n",
    "mercur_market_brend_capacity_table = (pd.pivot_table(mercur_market_brend_capacity, index='бренд', values=['продажа_usd', 'количество'], aggfunc='sum')\n",
    "                           .sort_values(by='продажа_usd', ascending=False))\n",
    "mercur_market_brend_capacity_table"
   ]
  },
  {
   "cell_type": "code",
   "execution_count": 68,
   "id": "f462d2be",
   "metadata": {},
   "outputs": [
    {
     "data": {
      "text/plain": [
       "array(['Mercur Auto'], dtype=object)"
      ]
     },
     "execution_count": 68,
     "metadata": {},
     "output_type": "execute_result"
    }
   ],
   "source": [
    "mercur_market_brend_capacity['компания'].unique()"
   ]
  },
  {
   "cell_type": "markdown",
   "id": "78ce4691",
   "metadata": {},
   "source": [
    "Меркур Авто единственный кто продаёт эти бренды"
   ]
  },
  {
   "cell_type": "markdown",
   "id": "fc9556ac",
   "metadata": {},
   "source": [
    "### Доля рынка в сегментах"
   ]
  },
  {
   "cell_type": "code",
   "execution_count": 69,
   "id": "9ac327a2",
   "metadata": {},
   "outputs": [
    {
     "data": {
      "text/html": [
       "<div>\n",
       "<style scoped>\n",
       "    .dataframe tbody tr th:only-of-type {\n",
       "        vertical-align: middle;\n",
       "    }\n",
       "\n",
       "    .dataframe tbody tr th {\n",
       "        vertical-align: top;\n",
       "    }\n",
       "\n",
       "    .dataframe thead th {\n",
       "        text-align: right;\n",
       "    }\n",
       "</style>\n",
       "<table border=\"1\" class=\"dataframe\">\n",
       "  <thead>\n",
       "    <tr style=\"text-align: right;\">\n",
       "      <th></th>\n",
       "      <th>сегментация_2013</th>\n",
       "      <th>Объем продаж, шт</th>\n",
       "      <th>Объем продаж, $</th>\n",
       "      <th>Объем продаж Меркур, шт</th>\n",
       "      <th>Объем продаж Меркур $</th>\n",
       "      <th>Доля Меркур, шт в %</th>\n",
       "      <th>Доля Меркур,$ в %</th>\n",
       "    </tr>\n",
       "  </thead>\n",
       "  <tbody>\n",
       "    <tr>\n",
       "      <th>0</th>\n",
       "      <td>Внедорожники</td>\n",
       "      <td>17,048</td>\n",
       "      <td>563,607,241</td>\n",
       "      <td>168</td>\n",
       "      <td>9,655,007</td>\n",
       "      <td>1</td>\n",
       "      <td>2</td>\n",
       "    </tr>\n",
       "    <tr>\n",
       "      <th>1</th>\n",
       "      <td>Легковые автомобили</td>\n",
       "      <td>19,336</td>\n",
       "      <td>341,760,332</td>\n",
       "      <td>545</td>\n",
       "      <td>14,045,041</td>\n",
       "      <td>3</td>\n",
       "      <td>4</td>\n",
       "    </tr>\n",
       "    <tr>\n",
       "      <th>2</th>\n",
       "      <td>Коммерческие автомобили</td>\n",
       "      <td>3,483</td>\n",
       "      <td>91,138,193</td>\n",
       "      <td>1</td>\n",
       "      <td>34,694</td>\n",
       "      <td>0</td>\n",
       "      <td>0</td>\n",
       "    </tr>\n",
       "    <tr>\n",
       "      <th>3</th>\n",
       "      <td>Пикапы</td>\n",
       "      <td>814</td>\n",
       "      <td>27,126,131</td>\n",
       "      <td>5</td>\n",
       "      <td>282,968</td>\n",
       "      <td>1</td>\n",
       "      <td>1</td>\n",
       "    </tr>\n",
       "    <tr>\n",
       "      <th>4</th>\n",
       "      <td>Минивэны</td>\n",
       "      <td>57</td>\n",
       "      <td>2,325,181</td>\n",
       "      <td>4</td>\n",
       "      <td>305,646</td>\n",
       "      <td>7</td>\n",
       "      <td>13</td>\n",
       "    </tr>\n",
       "  </tbody>\n",
       "</table>\n",
       "</div>"
      ],
      "text/plain": [
       "           сегментация_2013  Объем продаж, шт  Объем продаж, $  \\\n",
       "0             Внедорожники             17,048      563,607,241   \n",
       "1      Легковые автомобили             19,336      341,760,332   \n",
       "2  Коммерческие автомобили              3,483       91,138,193   \n",
       "3                   Пикапы                814       27,126,131   \n",
       "4                  Минивэны                57        2,325,181   \n",
       "\n",
       "   Объем продаж Меркур, шт  Объем продаж Меркур $  Доля Меркур, шт в %  \\\n",
       "0                      168              9,655,007                    1   \n",
       "1                      545             14,045,041                    3   \n",
       "2                        1                 34,694                    0   \n",
       "3                        5                282,968                    1   \n",
       "4                        4                305,646                    7   \n",
       "\n",
       "   Доля Меркур,$ в %  \n",
       "0                  2  \n",
       "1                  4  \n",
       "2                  0  \n",
       "3                  1  \n",
       "4                 13  "
      ]
     },
     "execution_count": 69,
     "metadata": {},
     "output_type": "execute_result"
    }
   ],
   "source": [
    "# расчитаем, какую долю имеет меркур авто в каждом сегменте\n",
    "\n",
    "# создадим таблицу по меркур авто, сгруппированную по сегментам\n",
    "segments_mercur_auto = mercur_auto.groupby('сегментация_2013')[['количество', 'продажа_usd']].agg('sum')\n",
    "\n",
    "# объединим таблицы по сегменту\n",
    "market_segment_capacity = market_segment_capacity.merge(segments_mercur_auto, on=['сегментация_2013'])\n",
    "\n",
    "# переименуем столбцы\n",
    "market_segment_capacity = market_segment_capacity.rename(columns={'количество_x': 'Объем продаж, шт', \n",
    "                                                                  'продажа_usd_x': 'Объем продаж, $',\n",
    "                                                                  'количество_y': 'Объем продаж Меркур, шт',\n",
    "                                                                  'продажа_usd_y': 'Объем продаж Меркур $'})\n",
    "\n",
    "market_segment_capacity['Доля Меркур, шт в %'] = market_segment_capacity['Объем продаж Меркур, шт'] * 100 / market_segment_capacity['Объем продаж, шт']\n",
    "market_segment_capacity['Доля Меркур,$ в %'] = market_segment_capacity['Объем продаж Меркур $'] * 100 / market_segment_capacity['Объем продаж, $']\n",
    "\n",
    "market_segment_capacity"
   ]
  },
  {
   "cell_type": "markdown",
   "id": "55b73128",
   "metadata": {},
   "source": [
    "В самых популярных категориях, внедорожники и легковые автомобили, Меркур Авто имеет доли 2 и 4 процента соответственно"
   ]
  },
  {
   "cell_type": "markdown",
   "id": "3f2e1c42",
   "metadata": {},
   "source": [
    "### Конкуренты"
   ]
  },
  {
   "cell_type": "markdown",
   "id": "dbbd52b7",
   "metadata": {},
   "source": [
    "Поскольку основная доля выручки приходит на легковые автомобили и внедорожники, нужно посмотреть с кем имеем дело в этих категориях."
   ]
  },
  {
   "cell_type": "code",
   "execution_count": 70,
   "id": "bbb3277a",
   "metadata": {},
   "outputs": [
    {
     "data": {
      "text/html": [
       "<div>\n",
       "<style scoped>\n",
       "    .dataframe tbody tr th:only-of-type {\n",
       "        vertical-align: middle;\n",
       "    }\n",
       "\n",
       "    .dataframe tbody tr th {\n",
       "        vertical-align: top;\n",
       "    }\n",
       "\n",
       "    .dataframe thead th {\n",
       "        text-align: right;\n",
       "    }\n",
       "</style>\n",
       "<table border=\"1\" class=\"dataframe\">\n",
       "  <thead>\n",
       "    <tr style=\"text-align: right;\">\n",
       "      <th></th>\n",
       "      <th>компания</th>\n",
       "      <th>продажа_usd</th>\n",
       "    </tr>\n",
       "  </thead>\n",
       "  <tbody>\n",
       "    <tr>\n",
       "      <th>12</th>\n",
       "      <td>Toyota Motor Kazakhstan</td>\n",
       "      <td>440,696,691</td>\n",
       "    </tr>\n",
       "    <tr>\n",
       "      <th>15</th>\n",
       "      <td>БИПЭК АВТО</td>\n",
       "      <td>147,885,588</td>\n",
       "    </tr>\n",
       "    <tr>\n",
       "      <th>1</th>\n",
       "      <td>Astana Motors</td>\n",
       "      <td>124,487,655</td>\n",
       "    </tr>\n",
       "    <tr>\n",
       "      <th>6</th>\n",
       "      <td>Nissan Manufacturing RUS</td>\n",
       "      <td>43,263,539</td>\n",
       "    </tr>\n",
       "    <tr>\n",
       "      <th>13</th>\n",
       "      <td>Автоцентр-Бавария</td>\n",
       "      <td>24,235,302</td>\n",
       "    </tr>\n",
       "    <tr>\n",
       "      <th>5</th>\n",
       "      <td>Mercur Auto</td>\n",
       "      <td>23,700,049</td>\n",
       "    </tr>\n",
       "    <tr>\n",
       "      <th>11</th>\n",
       "      <td>Subaru Kazakhstan</td>\n",
       "      <td>17,311,553</td>\n",
       "    </tr>\n",
       "    <tr>\n",
       "      <th>20</th>\n",
       "      <td>УзАвто-Казахстан</td>\n",
       "      <td>17,149,090</td>\n",
       "    </tr>\n",
       "    <tr>\n",
       "      <th>0</th>\n",
       "      <td>Allur Auto</td>\n",
       "      <td>14,698,274</td>\n",
       "    </tr>\n",
       "    <tr>\n",
       "      <th>19</th>\n",
       "      <td>ММС Рус</td>\n",
       "      <td>13,121,762</td>\n",
       "    </tr>\n",
       "  </tbody>\n",
       "</table>\n",
       "</div>"
      ],
      "text/plain": [
       "                    компания  продажа_usd\n",
       "12   Toyota Motor Kazakhstan  440,696,691\n",
       "15                БИПЭК АВТО  147,885,588\n",
       "1              Astana Motors  124,487,655\n",
       "6   Nissan Manufacturing RUS   43,263,539\n",
       "13         Автоцентр-Бавария   24,235,302\n",
       "5                Mercur Auto   23,700,049\n",
       "11         Subaru Kazakhstan   17,311,553\n",
       "20          УзАвто-Казахстан   17,149,090\n",
       "0                 Allur Auto   14,698,274\n",
       "19                   ММС Рус   13,121,762"
      ]
     },
     "execution_count": 70,
     "metadata": {},
     "output_type": "execute_result"
    }
   ],
   "source": [
    "competitors = data[(data['сегментация_2013'] == 'Легковые автомобили ')|(data['сегментация_2013'] == 'Внедорожники ')]\n",
    "competitors_grouped = (competitors.groupby('компания', as_index=False)['продажа_usd']\n",
    "                          .agg('sum')\n",
    "                          .sort_values(by='продажа_usd', ascending=False)\n",
    "                         )\n",
    "competitors_grouped.head(10)"
   ]
  },
  {
   "cell_type": "markdown",
   "id": "5a7f7f5f",
   "metadata": {},
   "source": [
    "### Ближайшие конкуренты"
   ]
  },
  {
   "cell_type": "markdown",
   "id": "1d9e86fe",
   "metadata": {},
   "source": [
    "Изучим также конкурентов, которые работают в тех же регионах, что и Меркур авто"
   ]
  },
  {
   "cell_type": "code",
   "execution_count": 71,
   "id": "8a3ce98a",
   "metadata": {},
   "outputs": [
    {
     "data": {
      "text/plain": [
       "array(['Алматы', 'Костанай', 'Атырау', 'Астана', 'Караганда', 'Уральск'],\n",
       "      dtype=object)"
      ]
     },
     "execution_count": 71,
     "metadata": {},
     "output_type": "execute_result"
    }
   ],
   "source": [
    "mercur_auto['регион'].unique()"
   ]
  },
  {
   "cell_type": "code",
   "execution_count": 72,
   "id": "4e1a0bf2",
   "metadata": {},
   "outputs": [
    {
     "data": {
      "text/html": [
       "<div>\n",
       "<style scoped>\n",
       "    .dataframe tbody tr th:only-of-type {\n",
       "        vertical-align: middle;\n",
       "    }\n",
       "\n",
       "    .dataframe tbody tr th {\n",
       "        vertical-align: top;\n",
       "    }\n",
       "\n",
       "    .dataframe thead th {\n",
       "        text-align: right;\n",
       "    }\n",
       "</style>\n",
       "<table border=\"1\" class=\"dataframe\">\n",
       "  <thead>\n",
       "    <tr style=\"text-align: right;\">\n",
       "      <th></th>\n",
       "      <th>компания</th>\n",
       "      <th>продажа_usd</th>\n",
       "    </tr>\n",
       "  </thead>\n",
       "  <tbody>\n",
       "    <tr>\n",
       "      <th>12</th>\n",
       "      <td>Toyota Motor Kazakhstan</td>\n",
       "      <td>337,167,294</td>\n",
       "    </tr>\n",
       "    <tr>\n",
       "      <th>1</th>\n",
       "      <td>Astana Motors</td>\n",
       "      <td>93,329,815</td>\n",
       "    </tr>\n",
       "    <tr>\n",
       "      <th>15</th>\n",
       "      <td>БИПЭК АВТО</td>\n",
       "      <td>82,918,699</td>\n",
       "    </tr>\n",
       "    <tr>\n",
       "      <th>6</th>\n",
       "      <td>Nissan Manufacturing RUS</td>\n",
       "      <td>36,825,745</td>\n",
       "    </tr>\n",
       "    <tr>\n",
       "      <th>5</th>\n",
       "      <td>Mercur Auto</td>\n",
       "      <td>23,700,049</td>\n",
       "    </tr>\n",
       "    <tr>\n",
       "      <th>13</th>\n",
       "      <td>Автоцентр-Бавария</td>\n",
       "      <td>21,524,722</td>\n",
       "    </tr>\n",
       "    <tr>\n",
       "      <th>19</th>\n",
       "      <td>ММС Рус</td>\n",
       "      <td>12,274,797</td>\n",
       "    </tr>\n",
       "    <tr>\n",
       "      <th>11</th>\n",
       "      <td>Subaru Kazakhstan</td>\n",
       "      <td>11,703,879</td>\n",
       "    </tr>\n",
       "    <tr>\n",
       "      <th>0</th>\n",
       "      <td>Allur Auto</td>\n",
       "      <td>10,103,952</td>\n",
       "    </tr>\n",
       "    <tr>\n",
       "      <th>20</th>\n",
       "      <td>УзАвто-Казахстан</td>\n",
       "      <td>9,626,336</td>\n",
       "    </tr>\n",
       "  </tbody>\n",
       "</table>\n",
       "</div>"
      ],
      "text/plain": [
       "                    компания  продажа_usd\n",
       "12   Toyota Motor Kazakhstan  337,167,294\n",
       "1              Astana Motors   93,329,815\n",
       "15                БИПЭК АВТО   82,918,699\n",
       "6   Nissan Manufacturing RUS   36,825,745\n",
       "5                Mercur Auto   23,700,049\n",
       "13         Автоцентр-Бавария   21,524,722\n",
       "19                   ММС Рус   12,274,797\n",
       "11         Subaru Kazakhstan   11,703,879\n",
       "0                 Allur Auto   10,103,952\n",
       "20          УзАвто-Казахстан    9,626,336"
      ]
     },
     "execution_count": 72,
     "metadata": {},
     "output_type": "execute_result"
    }
   ],
   "source": [
    "near_competitors = (competitors[(competitors['регион'] == 'Алматы')|\n",
    "                                     (competitors['регион'] == 'Костанай')|\n",
    "                                     (competitors['регион'] == 'Атырау')|\n",
    "                                     (competitors['регион'] == 'Астана')|\n",
    "                                     (competitors['регион'] == 'Караганда')|\n",
    "                                     (competitors['регион'] == 'Уральск')])\n",
    "(near_competitors.groupby('компания', as_index=False)['продажа_usd']\n",
    "                          .agg('sum')\n",
    "                          .sort_values(by='продажа_usd', ascending=False).head(10))"
   ]
  },
  {
   "cell_type": "markdown",
   "id": "df066153",
   "metadata": {},
   "source": [
    "В сегменте внедорожников и легковых автомобилей Меркур Авто занимает 6 место по Казахстану и 5 место в регионах присутствия."
   ]
  },
  {
   "cell_type": "code",
   "execution_count": 73,
   "id": "399189b6",
   "metadata": {},
   "outputs": [
    {
     "data": {
      "text/html": [
       "<div>\n",
       "<style scoped>\n",
       "    .dataframe tbody tr th:only-of-type {\n",
       "        vertical-align: middle;\n",
       "    }\n",
       "\n",
       "    .dataframe tbody tr th {\n",
       "        vertical-align: top;\n",
       "    }\n",
       "\n",
       "    .dataframe thead th {\n",
       "        text-align: right;\n",
       "    }\n",
       "</style>\n",
       "<table border=\"1\" class=\"dataframe\">\n",
       "  <thead>\n",
       "    <tr style=\"text-align: right;\">\n",
       "      <th></th>\n",
       "      <th>бренд</th>\n",
       "      <th>продажа_usd</th>\n",
       "    </tr>\n",
       "  </thead>\n",
       "  <tbody>\n",
       "    <tr>\n",
       "      <th>0</th>\n",
       "      <td>Hyundai</td>\n",
       "      <td>93,329,815</td>\n",
       "    </tr>\n",
       "  </tbody>\n",
       "</table>\n",
       "</div>"
      ],
      "text/plain": [
       "     бренд  продажа_usd\n",
       "0  Hyundai   93,329,815"
      ]
     },
     "execution_count": 73,
     "metadata": {},
     "output_type": "execute_result"
    }
   ],
   "source": [
    "# изучим какие бренды продает Astana Motors\n",
    "astana = near_competitors[near_competitors['компания'] == 'Astana Motors']\n",
    "(astana.groupby('бренд', as_index=False)['продажа_usd']\n",
    "                          .agg('sum')\n",
    "                          .sort_values(by='продажа_usd', ascending=False).head(10))"
   ]
  },
  {
   "cell_type": "code",
   "execution_count": 74,
   "id": "56ca7cbb",
   "metadata": {},
   "outputs": [
    {
     "data": {
      "text/html": [
       "<div>\n",
       "<style scoped>\n",
       "    .dataframe tbody tr th:only-of-type {\n",
       "        vertical-align: middle;\n",
       "    }\n",
       "\n",
       "    .dataframe tbody tr th {\n",
       "        vertical-align: top;\n",
       "    }\n",
       "\n",
       "    .dataframe thead th {\n",
       "        text-align: right;\n",
       "    }\n",
       "</style>\n",
       "<table border=\"1\" class=\"dataframe\">\n",
       "  <thead>\n",
       "    <tr style=\"text-align: right;\">\n",
       "      <th></th>\n",
       "      <th>бренд</th>\n",
       "      <th>продажа_usd</th>\n",
       "    </tr>\n",
       "  </thead>\n",
       "  <tbody>\n",
       "    <tr>\n",
       "      <th>2</th>\n",
       "      <td>Lada</td>\n",
       "      <td>46,564,715</td>\n",
       "    </tr>\n",
       "    <tr>\n",
       "      <th>1</th>\n",
       "      <td>Kia</td>\n",
       "      <td>25,421,400</td>\n",
       "    </tr>\n",
       "    <tr>\n",
       "      <th>3</th>\n",
       "      <td>Skoda</td>\n",
       "      <td>8,294,184</td>\n",
       "    </tr>\n",
       "    <tr>\n",
       "      <th>0</th>\n",
       "      <td>Chevrolet</td>\n",
       "      <td>2,005,400</td>\n",
       "    </tr>\n",
       "    <tr>\n",
       "      <th>4</th>\n",
       "      <td>UAZ</td>\n",
       "      <td>633,000</td>\n",
       "    </tr>\n",
       "  </tbody>\n",
       "</table>\n",
       "</div>"
      ],
      "text/plain": [
       "       бренд  продажа_usd\n",
       "2       Lada   46,564,715\n",
       "1        Kia   25,421,400\n",
       "3      Skoda    8,294,184\n",
       "0  Chevrolet    2,005,400\n",
       "4        UAZ      633,000"
      ]
     },
     "execution_count": 74,
     "metadata": {},
     "output_type": "execute_result"
    }
   ],
   "source": [
    "# также изучим БИПЭК АВТО\n",
    "bipek = near_competitors[near_competitors['компания'] == 'БИПЭК АВТО']\n",
    "(bipek.groupby('бренд', as_index=False)['продажа_usd']\n",
    "                          .agg('sum')\n",
    "                          .sort_values(by='продажа_usd', ascending=False).head(10))"
   ]
  },
  {
   "cell_type": "markdown",
   "id": "fa758718",
   "metadata": {},
   "source": [
    "### Рекомендации"
   ]
  },
  {
   "cell_type": "markdown",
   "id": "54d02984",
   "metadata": {},
   "source": [
    "- Самые продаваемые сегменты: внедорожники и легковые автомобили. Именно на них делает упор Меркур Авто. Однако за наблюдаемый период большой рост показали именно внедорожники, тогда как дилер продал почти в 2 раза больше легковых автомобилей, чем внедорожников. Возможно стоит сделать упор на моделях Volkswagen Tiguan и Touareg: и самый прибыльный бренд, и востребованный сегмент внедорожников. Аналогично с Audi и Porshe: нужно активнее продвигать модели Q у Audi и Macan вместе с Cayenne у Porsche.\n",
    "\n",
    "- Также следует расширить географию присутствия в регионах из первой десятки по количеству продаж: Шымкент, Усть-Каменогорс Актау и Актобе.\n",
    "\n",
    "- Возможно стоит расширить модельный ряд и добавить автомобили того же концерна VAG, например Skoda, как это делает БИПЭК АВТО"
   ]
  }
 ],
 "metadata": {
  "kernelspec": {
   "display_name": "Python 3 (ipykernel)",
   "language": "python",
   "name": "python3"
  },
  "language_info": {
   "codemirror_mode": {
    "name": "ipython",
    "version": 3
   },
   "file_extension": ".py",
   "mimetype": "text/x-python",
   "name": "python",
   "nbconvert_exporter": "python",
   "pygments_lexer": "ipython3",
   "version": "3.9.13"
  }
 },
 "nbformat": 4,
 "nbformat_minor": 5
}
